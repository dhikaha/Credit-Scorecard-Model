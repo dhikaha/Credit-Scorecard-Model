{
 "cells": [
  {
   "attachments": {},
   "cell_type": "markdown",
   "id": "60448da5",
   "metadata": {},
   "source": [
    "# Import libraries"
   ]
  },
  {
   "cell_type": "code",
   "execution_count": 7,
   "id": "1891bf05",
   "metadata": {
    "execution": {
     "iopub.execute_input": "2022-07-21T13:15:36.648287Z",
     "iopub.status.busy": "2022-07-21T13:15:36.647454Z",
     "iopub.status.idle": "2022-07-21T13:15:39.820377Z",
     "shell.execute_reply": "2022-07-21T13:15:39.819044Z"
    },
    "id": "tE6T5J05U1Be",
    "papermill": {
     "duration": 3.194748,
     "end_time": "2022-07-21T13:15:39.824206",
     "exception": false,
     "start_time": "2022-07-21T13:15:36.629458",
     "status": "completed"
    },
    "tags": []
   },
   "outputs": [],
   "source": [
    "import pandas as pd\n",
    "import numpy as np\n",
    "import matplotlib.pyplot as plt\n",
    "import seaborn as sns\n",
    "import scipy as stats\n",
    "from sklearn.experimental import enable_iterative_imputer\n",
    "from sklearn.impute import KNNImputer, IterativeImputer\n",
    "from sklearn.preprocessing import RobustScaler, MinMaxScaler, MaxAbsScaler, StandardScaler\n",
    "from sklearn.model_selection import train_test_split\n",
    "from imblearn.over_sampling import SMOTE\n",
    "from sklearn.metrics import confusion_matrix, precision_score, recall_score, roc_auc_score\n",
    "\n",
    "from sklearn.linear_model import LogisticRegression\n",
    "from sklearn.neighbors import KNeighborsClassifier\n",
    "from sklearn.neural_network import MLPClassifier\n",
    "from xgboost import XGBClassifier\n",
    "from lightgbm import LGBMClassifier\n",
    "\n",
    "import warnings\n",
    "warnings.filterwarnings('ignore')"
   ]
  },
  {
   "cell_type": "code",
   "execution_count": 8,
   "id": "6360e590",
   "metadata": {
    "execution": {
     "iopub.execute_input": "2022-07-21T13:15:39.860919Z",
     "iopub.status.busy": "2022-07-21T13:15:39.860429Z",
     "iopub.status.idle": "2022-07-21T13:15:47.507935Z",
     "shell.execute_reply": "2022-07-21T13:15:47.506937Z"
    },
    "id": "h7D_3C6CYc2v",
    "papermill": {
     "duration": 7.669672,
     "end_time": "2022-07-21T13:15:47.510752",
     "exception": false,
     "start_time": "2022-07-21T13:15:39.841080",
     "status": "completed"
    },
    "tags": []
   },
   "outputs": [],
   "source": [
    "train = pd.read_csv('application_train.csv')\n",
    "test = pd.read_csv('application_test.csv')"
   ]
  },
  {
   "attachments": {},
   "cell_type": "markdown",
   "id": "9bfe3b56",
   "metadata": {
    "id": "wtc_9SHFVAXY",
    "papermill": {
     "duration": 0.016667,
     "end_time": "2022-07-21T13:15:47.548508",
     "exception": false,
     "start_time": "2022-07-21T13:15:47.531841",
     "status": "completed"
    },
    "tags": []
   },
   "source": [
    "# Analisis\n",
    "1. How well the borrower has performed in repayment on previous loans\n",
    "2. Which occupancy group has no problem in repayment\n",
    "3. The company's loss if it mistakenly determines potential borrowers who are difficult to pay"
   ]
  },
  {
   "cell_type": "code",
   "execution_count": 9,
   "id": "a43760f9",
   "metadata": {
    "execution": {
     "iopub.execute_input": "2022-07-21T13:15:47.585223Z",
     "iopub.status.busy": "2022-07-21T13:15:47.583762Z",
     "iopub.status.idle": "2022-07-21T13:15:47.593202Z",
     "shell.execute_reply": "2022-07-21T13:15:47.591965Z"
    },
    "id": "gqgG201cYrs6",
    "outputId": "41149bda-cec0-480e-ddfc-8f0124c7056e",
    "papermill": {
     "duration": 0.030644,
     "end_time": "2022-07-21T13:15:47.595979",
     "exception": false,
     "start_time": "2022-07-21T13:15:47.565335",
     "status": "completed"
    },
    "tags": []
   },
   "outputs": [
    {
     "data": {
      "text/plain": [
       "Index(['SK_ID_CURR', 'TARGET', 'NAME_CONTRACT_TYPE', 'CODE_GENDER',\n",
       "       'FLAG_OWN_CAR', 'FLAG_OWN_REALTY', 'CNT_CHILDREN', 'AMT_INCOME_TOTAL',\n",
       "       'AMT_CREDIT', 'AMT_ANNUITY',\n",
       "       ...\n",
       "       'FLAG_DOCUMENT_18', 'FLAG_DOCUMENT_19', 'FLAG_DOCUMENT_20',\n",
       "       'FLAG_DOCUMENT_21', 'AMT_REQ_CREDIT_BUREAU_HOUR',\n",
       "       'AMT_REQ_CREDIT_BUREAU_DAY', 'AMT_REQ_CREDIT_BUREAU_WEEK',\n",
       "       'AMT_REQ_CREDIT_BUREAU_MON', 'AMT_REQ_CREDIT_BUREAU_QRT',\n",
       "       'AMT_REQ_CREDIT_BUREAU_YEAR'],\n",
       "      dtype='object', length=122)"
      ]
     },
     "execution_count": 9,
     "metadata": {},
     "output_type": "execute_result"
    }
   ],
   "source": [
    "train.keys()"
   ]
  },
  {
   "cell_type": "code",
   "execution_count": 10,
   "id": "6be80301",
   "metadata": {
    "execution": {
     "iopub.execute_input": "2022-07-21T13:15:47.632822Z",
     "iopub.status.busy": "2022-07-21T13:15:47.632334Z",
     "iopub.status.idle": "2022-07-21T13:15:58.867640Z",
     "shell.execute_reply": "2022-07-21T13:15:58.865958Z"
    },
    "id": "DTo4qd-oYrqU",
    "papermill": {
     "duration": 11.257239,
     "end_time": "2022-07-21T13:15:58.871019",
     "exception": false,
     "start_time": "2022-07-21T13:15:47.613780",
     "status": "completed"
    },
    "tags": []
   },
   "outputs": [],
   "source": [
    "corr_rank = train.corr()['TARGET'].sort_values()"
   ]
  },
  {
   "attachments": {},
   "cell_type": "markdown",
   "id": "0a5d1aca",
   "metadata": {
    "papermill": {
     "duration": 0.016272,
     "end_time": "2022-07-21T13:15:58.904148",
     "exception": false,
     "start_time": "2022-07-21T13:15:58.887876",
     "status": "completed"
    },
    "tags": []
   },
   "source": [
    "I looked at the corelation that were most highly and positively linked with the target variable."
   ]
  },
  {
   "cell_type": "code",
   "execution_count": 11,
   "id": "0410931b",
   "metadata": {
    "execution": {
     "iopub.execute_input": "2022-07-21T13:15:58.939552Z",
     "iopub.status.busy": "2022-07-21T13:15:58.938867Z",
     "iopub.status.idle": "2022-07-21T13:15:58.946569Z",
     "shell.execute_reply": "2022-07-21T13:15:58.945744Z"
    },
    "id": "ZCxplTnIYrnL",
    "outputId": "62b8a1ea-3f8d-4228-87ff-ae272b7cd2af",
    "papermill": {
     "duration": 0.027947,
     "end_time": "2022-07-21T13:15:58.948597",
     "exception": false,
     "start_time": "2022-07-21T13:15:58.920650",
     "status": "completed"
    },
    "tags": []
   },
   "outputs": [
    {
     "data": {
      "text/plain": [
       "EXT_SOURCE_3                 -0.178919\n",
       "EXT_SOURCE_2                 -0.160472\n",
       "EXT_SOURCE_1                 -0.155317\n",
       "DAYS_EMPLOYED                -0.044932\n",
       "FLOORSMAX_AVG                -0.044003\n",
       "FLOORSMAX_MEDI               -0.043768\n",
       "FLOORSMAX_MODE               -0.043226\n",
       "AMT_GOODS_PRICE              -0.039645\n",
       "REGION_POPULATION_RELATIVE   -0.037227\n",
       "ELEVATORS_AVG                -0.034199\n",
       "ELEVATORS_MEDI               -0.033863\n",
       "FLOORSMIN_AVG                -0.033614\n",
       "FLOORSMIN_MEDI               -0.033394\n",
       "LIVINGAREA_AVG               -0.032997\n",
       "LIVINGAREA_MEDI              -0.032739\n",
       "Name: TARGET, dtype: float64"
      ]
     },
     "execution_count": 11,
     "metadata": {},
     "output_type": "execute_result"
    }
   ],
   "source": [
    "corr_rank.head(n=15)"
   ]
  },
  {
   "cell_type": "code",
   "execution_count": 12,
   "id": "22f25f62",
   "metadata": {
    "execution": {
     "iopub.execute_input": "2022-07-21T13:15:58.986373Z",
     "iopub.status.busy": "2022-07-21T13:15:58.985257Z",
     "iopub.status.idle": "2022-07-21T13:15:58.994109Z",
     "shell.execute_reply": "2022-07-21T13:15:58.992758Z"
    },
    "id": "hRUAwU95ZaBF",
    "outputId": "f489182b-043d-458c-f399-100531a8c320",
    "papermill": {
     "duration": 0.030431,
     "end_time": "2022-07-21T13:15:58.996575",
     "exception": false,
     "start_time": "2022-07-21T13:15:58.966144",
     "status": "completed"
    },
    "tags": []
   },
   "outputs": [
    {
     "data": {
      "text/plain": [
       "DEF_60_CNT_SOCIAL_CIRCLE       0.031276\n",
       "DEF_30_CNT_SOCIAL_CIRCLE       0.032248\n",
       "LIVE_CITY_NOT_WORK_CITY        0.032518\n",
       "OWN_CAR_AGE                    0.037612\n",
       "DAYS_REGISTRATION              0.041975\n",
       "FLAG_DOCUMENT_3                0.044346\n",
       "REG_CITY_NOT_LIVE_CITY         0.044395\n",
       "FLAG_EMP_PHONE                 0.045982\n",
       "REG_CITY_NOT_WORK_CITY         0.050994\n",
       "DAYS_ID_PUBLISH                0.051457\n",
       "DAYS_LAST_PHONE_CHANGE         0.055218\n",
       "REGION_RATING_CLIENT           0.058899\n",
       "REGION_RATING_CLIENT_W_CITY    0.060893\n",
       "DAYS_BIRTH                     0.078239\n",
       "TARGET                         1.000000\n",
       "Name: TARGET, dtype: float64"
      ]
     },
     "execution_count": 12,
     "metadata": {},
     "output_type": "execute_result"
    }
   ],
   "source": [
    "corr_rank.tail(n=15)"
   ]
  },
  {
   "attachments": {},
   "cell_type": "markdown",
   "id": "dfcbb84d",
   "metadata": {},
   "source": [
    "# Data Visualize"
   ]
  },
  {
   "attachments": {},
   "cell_type": "markdown",
   "id": "b9604dad",
   "metadata": {},
   "source": [
    "## Which gender is more dominant?"
   ]
  },
  {
   "cell_type": "code",
   "execution_count": 13,
   "id": "952eff07",
   "metadata": {},
   "outputs": [
    {
     "data": {
      "text/plain": [
       "<AxesSubplot: xlabel='CODE_GENDER', ylabel='count'>"
      ]
     },
     "execution_count": 13,
     "metadata": {},
     "output_type": "execute_result"
    },
    {
     "data": {
      "image/png": "[encoded data removed]",
      "text/plain": [
       "<Figure size 1000x700 with 1 Axes>"
      ]
     },
     "metadata": {},
     "output_type": "display_data"
    }
   ],
   "source": [
    "fig, ax = plt.subplots(figsize=(10,7))\n",
    "sns.countplot(x='CODE_GENDER',data=train)"
   ]
  },
  {
   "attachments": {},
   "cell_type": "markdown",
   "id": "e08245a5",
   "metadata": {},
   "source": [
    "## How is the distribution of target labels? - Did most people return on time ?\n",
    "0: Loan was repaid 1: Loan was not repaid"
   ]
  },
  {
   "cell_type": "code",
   "execution_count": 14,
   "id": "024272ee",
   "metadata": {},
   "outputs": [
    {
     "data": {
      "text/plain": [
       "<AxesSubplot: xlabel='TARGET', ylabel='count'>"
      ]
     },
     "execution_count": 14,
     "metadata": {},
     "output_type": "execute_result"
    },
    {
     "data": {
      "image/png": "[encoded data removed]",
      "text/plain": [
       "<Figure size 1000x700 with 1 Axes>"
      ]
     },
     "metadata": {},
     "output_type": "display_data"
    }
   ],
   "source": [
    "fig, ax = plt.subplots(figsize=(10,7))\n",
    "sns.countplot(x ='TARGET',data=train, hue='TARGET',palette=\"Set1\")"
   ]
  },
  {
   "attachments": {},
   "cell_type": "markdown",
   "id": "65939039",
   "metadata": {},
   "source": [
    "## Who are the primary borrowers? What do they do?"
   ]
  },
  {
   "cell_type": "code",
   "execution_count": 15,
   "id": "fe02fa2e",
   "metadata": {},
   "outputs": [
    {
     "data": {
      "text/plain": [
       "(array([ 0,  1,  2,  3,  4,  5,  6,  7,  8,  9, 10, 11, 12, 13, 14, 15, 16,\n",
       "        17]),\n",
       " [Text(0, 0, 'Laborers'),\n",
       "  Text(1, 0, 'Core staff'),\n",
       "  Text(2, 0, 'Accountants'),\n",
       "  Text(3, 0, 'Managers'),\n",
       "  Text(4, 0, 'Drivers'),\n",
       "  Text(5, 0, 'Sales staff'),\n",
       "  Text(6, 0, 'Cleaning staff'),\n",
       "  Text(7, 0, 'Cooking staff'),\n",
       "  Text(8, 0, 'Private service staff'),\n",
       "  Text(9, 0, 'Medicine staff'),\n",
       "  Text(10, 0, 'Security staff'),\n",
       "  Text(11, 0, 'High skill tech staff'),\n",
       "  Text(12, 0, 'Waiters/barmen staff'),\n",
       "  Text(13, 0, 'Low-skill Laborers'),\n",
       "  Text(14, 0, 'Realty agents'),\n",
       "  Text(15, 0, 'Secretaries'),\n",
       "  Text(16, 0, 'IT staff'),\n",
       "  Text(17, 0, 'HR staff')])"
      ]
     },
     "execution_count": 15,
     "metadata": {},
     "output_type": "execute_result"
    },
    {
     "data": {
      "image/png": "[encoded data removed]",
      "text/plain": [
       "<Figure size 1500x700 with 1 Axes>"
      ]
     },
     "metadata": {},
     "output_type": "display_data"
    }
   ],
   "source": [
    "fig, ax = plt.subplots(figsize=(15,7))\n",
    "sns.countplot(x='OCCUPATION_TYPE',data=train)\n",
    "plt.xlabel(\"Occupation Type\")\n",
    "plt.xticks(rotation=70)"
   ]
  },
  {
   "attachments": {},
   "cell_type": "markdown",
   "id": "d8c2ecf1",
   "metadata": {},
   "source": [
    "## Which occupational category are better candidates for the business to lend money to because they pay back loans on time?"
   ]
  },
  {
   "cell_type": "code",
   "execution_count": 16,
   "id": "f0684b0d",
   "metadata": {},
   "outputs": [
    {
     "data": {
      "text/plain": [
       "Text(0.5, 0, 'Occupation Type')"
      ]
     },
     "execution_count": 16,
     "metadata": {},
     "output_type": "execute_result"
    },
    {
     "data": {
      "image/png": "[encoded data removed]",
      "text/plain": [
       "<Figure size 1500x700 with 1 Axes>"
      ]
     },
     "metadata": {},
     "output_type": "display_data"
    }
   ],
   "source": [
    "fig, ax = plt.subplots(figsize=(15,7))\n",
    "sns.countplot(x='OCCUPATION_TYPE',hue='TARGET',data=train,palette=\"Set2\")\n",
    "plt.xticks(rotation=70)\n",
    "plt.xlabel(\"Occupation Type\")"
   ]
  },
  {
   "attachments": {},
   "cell_type": "markdown",
   "id": "3e021963",
   "metadata": {},
   "source": [
    "## Let's examine the proportion of payers to borrowers in each occupational category."
   ]
  },
  {
   "cell_type": "code",
   "execution_count": 17,
   "id": "7e8d6e17",
   "metadata": {},
   "outputs": [
    {
     "data": {
      "text/html": [
       "<div>\n",
       "<style scoped>\n",
       "    .dataframe tbody tr th:only-of-type {\n",
       "        vertical-align: middle;\n",
       "    }\n",
       "\n",
       "    .dataframe tbody tr th {\n",
       "        vertical-align: top;\n",
       "    }\n",
       "\n",
       "    .dataframe thead th {\n",
       "        text-align: right;\n",
       "    }\n",
       "</style>\n",
       "<table border=\"1\" class=\"dataframe\">\n",
       "  <thead>\n",
       "    <tr style=\"text-align: right;\">\n",
       "      <th></th>\n",
       "      <th></th>\n",
       "      <th>SK_ID_CURR</th>\n",
       "    </tr>\n",
       "    <tr>\n",
       "      <th>OCCUPATION_TYPE</th>\n",
       "      <th>TARGET</th>\n",
       "      <th></th>\n",
       "    </tr>\n",
       "  </thead>\n",
       "  <tbody>\n",
       "    <tr>\n",
       "      <th rowspan=\"2\" valign=\"top\">Accountants</th>\n",
       "      <th>0</th>\n",
       "      <td>9339</td>\n",
       "    </tr>\n",
       "    <tr>\n",
       "      <th>1</th>\n",
       "      <td>474</td>\n",
       "    </tr>\n",
       "    <tr>\n",
       "      <th rowspan=\"2\" valign=\"top\">Cleaning staff</th>\n",
       "      <th>0</th>\n",
       "      <td>4206</td>\n",
       "    </tr>\n",
       "    <tr>\n",
       "      <th>1</th>\n",
       "      <td>447</td>\n",
       "    </tr>\n",
       "    <tr>\n",
       "      <th rowspan=\"2\" valign=\"top\">Cooking staff</th>\n",
       "      <th>0</th>\n",
       "      <td>5325</td>\n",
       "    </tr>\n",
       "    <tr>\n",
       "      <th>1</th>\n",
       "      <td>621</td>\n",
       "    </tr>\n",
       "    <tr>\n",
       "      <th rowspan=\"2\" valign=\"top\">Core staff</th>\n",
       "      <th>0</th>\n",
       "      <td>25832</td>\n",
       "    </tr>\n",
       "    <tr>\n",
       "      <th>1</th>\n",
       "      <td>1738</td>\n",
       "    </tr>\n",
       "    <tr>\n",
       "      <th rowspan=\"2\" valign=\"top\">Drivers</th>\n",
       "      <th>0</th>\n",
       "      <td>16496</td>\n",
       "    </tr>\n",
       "    <tr>\n",
       "      <th>1</th>\n",
       "      <td>2107</td>\n",
       "    </tr>\n",
       "    <tr>\n",
       "      <th rowspan=\"2\" valign=\"top\">HR staff</th>\n",
       "      <th>0</th>\n",
       "      <td>527</td>\n",
       "    </tr>\n",
       "    <tr>\n",
       "      <th>1</th>\n",
       "      <td>36</td>\n",
       "    </tr>\n",
       "    <tr>\n",
       "      <th rowspan=\"2\" valign=\"top\">High skill tech staff</th>\n",
       "      <th>0</th>\n",
       "      <td>10679</td>\n",
       "    </tr>\n",
       "    <tr>\n",
       "      <th>1</th>\n",
       "      <td>701</td>\n",
       "    </tr>\n",
       "    <tr>\n",
       "      <th rowspan=\"2\" valign=\"top\">IT staff</th>\n",
       "      <th>0</th>\n",
       "      <td>492</td>\n",
       "    </tr>\n",
       "    <tr>\n",
       "      <th>1</th>\n",
       "      <td>34</td>\n",
       "    </tr>\n",
       "    <tr>\n",
       "      <th rowspan=\"2\" valign=\"top\">Laborers</th>\n",
       "      <th>0</th>\n",
       "      <td>49348</td>\n",
       "    </tr>\n",
       "    <tr>\n",
       "      <th>1</th>\n",
       "      <td>5838</td>\n",
       "    </tr>\n",
       "    <tr>\n",
       "      <th rowspan=\"2\" valign=\"top\">Low-skill Laborers</th>\n",
       "      <th>0</th>\n",
       "      <td>1734</td>\n",
       "    </tr>\n",
       "    <tr>\n",
       "      <th>1</th>\n",
       "      <td>359</td>\n",
       "    </tr>\n",
       "    <tr>\n",
       "      <th rowspan=\"2\" valign=\"top\">Managers</th>\n",
       "      <th>0</th>\n",
       "      <td>20043</td>\n",
       "    </tr>\n",
       "    <tr>\n",
       "      <th>1</th>\n",
       "      <td>1328</td>\n",
       "    </tr>\n",
       "    <tr>\n",
       "      <th rowspan=\"2\" valign=\"top\">Medicine staff</th>\n",
       "      <th>0</th>\n",
       "      <td>7965</td>\n",
       "    </tr>\n",
       "    <tr>\n",
       "      <th>1</th>\n",
       "      <td>572</td>\n",
       "    </tr>\n",
       "    <tr>\n",
       "      <th rowspan=\"2\" valign=\"top\">Private service staff</th>\n",
       "      <th>0</th>\n",
       "      <td>2477</td>\n",
       "    </tr>\n",
       "    <tr>\n",
       "      <th>1</th>\n",
       "      <td>175</td>\n",
       "    </tr>\n",
       "    <tr>\n",
       "      <th rowspan=\"2\" valign=\"top\">Realty agents</th>\n",
       "      <th>0</th>\n",
       "      <td>692</td>\n",
       "    </tr>\n",
       "    <tr>\n",
       "      <th>1</th>\n",
       "      <td>59</td>\n",
       "    </tr>\n",
       "    <tr>\n",
       "      <th rowspan=\"2\" valign=\"top\">Sales staff</th>\n",
       "      <th>0</th>\n",
       "      <td>29010</td>\n",
       "    </tr>\n",
       "    <tr>\n",
       "      <th>1</th>\n",
       "      <td>3092</td>\n",
       "    </tr>\n",
       "    <tr>\n",
       "      <th rowspan=\"2\" valign=\"top\">Secretaries</th>\n",
       "      <th>0</th>\n",
       "      <td>1213</td>\n",
       "    </tr>\n",
       "    <tr>\n",
       "      <th>1</th>\n",
       "      <td>92</td>\n",
       "    </tr>\n",
       "    <tr>\n",
       "      <th rowspan=\"2\" valign=\"top\">Security staff</th>\n",
       "      <th>0</th>\n",
       "      <td>5999</td>\n",
       "    </tr>\n",
       "    <tr>\n",
       "      <th>1</th>\n",
       "      <td>722</td>\n",
       "    </tr>\n",
       "    <tr>\n",
       "      <th rowspan=\"2\" valign=\"top\">Waiters/barmen staff</th>\n",
       "      <th>0</th>\n",
       "      <td>1196</td>\n",
       "    </tr>\n",
       "    <tr>\n",
       "      <th>1</th>\n",
       "      <td>152</td>\n",
       "    </tr>\n",
       "  </tbody>\n",
       "</table>\n",
       "</div>"
      ],
      "text/plain": [
       "                              SK_ID_CURR\n",
       "OCCUPATION_TYPE       TARGET            \n",
       "Accountants           0             9339\n",
       "                      1              474\n",
       "Cleaning staff        0             4206\n",
       "                      1              447\n",
       "Cooking staff         0             5325\n",
       "                      1              621\n",
       "Core staff            0            25832\n",
       "                      1             1738\n",
       "Drivers               0            16496\n",
       "                      1             2107\n",
       "HR staff              0              527\n",
       "                      1               36\n",
       "High skill tech staff 0            10679\n",
       "                      1              701\n",
       "IT staff              0              492\n",
       "                      1               34\n",
       "Laborers              0            49348\n",
       "                      1             5838\n",
       "Low-skill Laborers    0             1734\n",
       "                      1              359\n",
       "Managers              0            20043\n",
       "                      1             1328\n",
       "Medicine staff        0             7965\n",
       "                      1              572\n",
       "Private service staff 0             2477\n",
       "                      1              175\n",
       "Realty agents         0              692\n",
       "                      1               59\n",
       "Sales staff           0            29010\n",
       "                      1             3092\n",
       "Secretaries           0             1213\n",
       "                      1               92\n",
       "Security staff        0             5999\n",
       "                      1              722\n",
       "Waiters/barmen staff  0             1196\n",
       "                      1              152"
      ]
     },
     "execution_count": 17,
     "metadata": {},
     "output_type": "execute_result"
    }
   ],
   "source": [
    "# get the number of people having occupation type and target grouped.\n",
    "Occupation_df = pd.DataFrame(data=train.groupby(['OCCUPATION_TYPE','TARGET']).count()['SK_ID_CURR'])\n",
    "Occupation_df"
   ]
  },
  {
   "cell_type": "code",
   "execution_count": 18,
   "id": "048d394d",
   "metadata": {},
   "outputs": [
    {
     "data": {
      "text/html": [
       "<div>\n",
       "<style scoped>\n",
       "    .dataframe tbody tr th:only-of-type {\n",
       "        vertical-align: middle;\n",
       "    }\n",
       "\n",
       "    .dataframe tbody tr th {\n",
       "        vertical-align: top;\n",
       "    }\n",
       "\n",
       "    .dataframe thead th {\n",
       "        text-align: right;\n",
       "    }\n",
       "</style>\n",
       "<table border=\"1\" class=\"dataframe\">\n",
       "  <thead>\n",
       "    <tr style=\"text-align: right;\">\n",
       "      <th></th>\n",
       "      <th>OCCUPATION_TYPE</th>\n",
       "      <th>TARGET</th>\n",
       "      <th>SK_ID_CURR</th>\n",
       "    </tr>\n",
       "  </thead>\n",
       "  <tbody>\n",
       "    <tr>\n",
       "      <th>0</th>\n",
       "      <td>Accountants</td>\n",
       "      <td>0</td>\n",
       "      <td>9339</td>\n",
       "    </tr>\n",
       "    <tr>\n",
       "      <th>1</th>\n",
       "      <td>Accountants</td>\n",
       "      <td>1</td>\n",
       "      <td>474</td>\n",
       "    </tr>\n",
       "    <tr>\n",
       "      <th>2</th>\n",
       "      <td>Cleaning staff</td>\n",
       "      <td>0</td>\n",
       "      <td>4206</td>\n",
       "    </tr>\n",
       "    <tr>\n",
       "      <th>3</th>\n",
       "      <td>Cleaning staff</td>\n",
       "      <td>1</td>\n",
       "      <td>447</td>\n",
       "    </tr>\n",
       "    <tr>\n",
       "      <th>4</th>\n",
       "      <td>Cooking staff</td>\n",
       "      <td>0</td>\n",
       "      <td>5325</td>\n",
       "    </tr>\n",
       "    <tr>\n",
       "      <th>5</th>\n",
       "      <td>Cooking staff</td>\n",
       "      <td>1</td>\n",
       "      <td>621</td>\n",
       "    </tr>\n",
       "    <tr>\n",
       "      <th>6</th>\n",
       "      <td>Core staff</td>\n",
       "      <td>0</td>\n",
       "      <td>25832</td>\n",
       "    </tr>\n",
       "    <tr>\n",
       "      <th>7</th>\n",
       "      <td>Core staff</td>\n",
       "      <td>1</td>\n",
       "      <td>1738</td>\n",
       "    </tr>\n",
       "    <tr>\n",
       "      <th>8</th>\n",
       "      <td>Drivers</td>\n",
       "      <td>0</td>\n",
       "      <td>16496</td>\n",
       "    </tr>\n",
       "    <tr>\n",
       "      <th>9</th>\n",
       "      <td>Drivers</td>\n",
       "      <td>1</td>\n",
       "      <td>2107</td>\n",
       "    </tr>\n",
       "    <tr>\n",
       "      <th>10</th>\n",
       "      <td>HR staff</td>\n",
       "      <td>0</td>\n",
       "      <td>527</td>\n",
       "    </tr>\n",
       "    <tr>\n",
       "      <th>11</th>\n",
       "      <td>HR staff</td>\n",
       "      <td>1</td>\n",
       "      <td>36</td>\n",
       "    </tr>\n",
       "    <tr>\n",
       "      <th>12</th>\n",
       "      <td>High skill tech staff</td>\n",
       "      <td>0</td>\n",
       "      <td>10679</td>\n",
       "    </tr>\n",
       "    <tr>\n",
       "      <th>13</th>\n",
       "      <td>High skill tech staff</td>\n",
       "      <td>1</td>\n",
       "      <td>701</td>\n",
       "    </tr>\n",
       "    <tr>\n",
       "      <th>14</th>\n",
       "      <td>IT staff</td>\n",
       "      <td>0</td>\n",
       "      <td>492</td>\n",
       "    </tr>\n",
       "    <tr>\n",
       "      <th>15</th>\n",
       "      <td>IT staff</td>\n",
       "      <td>1</td>\n",
       "      <td>34</td>\n",
       "    </tr>\n",
       "    <tr>\n",
       "      <th>16</th>\n",
       "      <td>Laborers</td>\n",
       "      <td>0</td>\n",
       "      <td>49348</td>\n",
       "    </tr>\n",
       "    <tr>\n",
       "      <th>17</th>\n",
       "      <td>Laborers</td>\n",
       "      <td>1</td>\n",
       "      <td>5838</td>\n",
       "    </tr>\n",
       "    <tr>\n",
       "      <th>18</th>\n",
       "      <td>Low-skill Laborers</td>\n",
       "      <td>0</td>\n",
       "      <td>1734</td>\n",
       "    </tr>\n",
       "    <tr>\n",
       "      <th>19</th>\n",
       "      <td>Low-skill Laborers</td>\n",
       "      <td>1</td>\n",
       "      <td>359</td>\n",
       "    </tr>\n",
       "    <tr>\n",
       "      <th>20</th>\n",
       "      <td>Managers</td>\n",
       "      <td>0</td>\n",
       "      <td>20043</td>\n",
       "    </tr>\n",
       "    <tr>\n",
       "      <th>21</th>\n",
       "      <td>Managers</td>\n",
       "      <td>1</td>\n",
       "      <td>1328</td>\n",
       "    </tr>\n",
       "    <tr>\n",
       "      <th>22</th>\n",
       "      <td>Medicine staff</td>\n",
       "      <td>0</td>\n",
       "      <td>7965</td>\n",
       "    </tr>\n",
       "    <tr>\n",
       "      <th>23</th>\n",
       "      <td>Medicine staff</td>\n",
       "      <td>1</td>\n",
       "      <td>572</td>\n",
       "    </tr>\n",
       "    <tr>\n",
       "      <th>24</th>\n",
       "      <td>Private service staff</td>\n",
       "      <td>0</td>\n",
       "      <td>2477</td>\n",
       "    </tr>\n",
       "    <tr>\n",
       "      <th>25</th>\n",
       "      <td>Private service staff</td>\n",
       "      <td>1</td>\n",
       "      <td>175</td>\n",
       "    </tr>\n",
       "    <tr>\n",
       "      <th>26</th>\n",
       "      <td>Realty agents</td>\n",
       "      <td>0</td>\n",
       "      <td>692</td>\n",
       "    </tr>\n",
       "    <tr>\n",
       "      <th>27</th>\n",
       "      <td>Realty agents</td>\n",
       "      <td>1</td>\n",
       "      <td>59</td>\n",
       "    </tr>\n",
       "    <tr>\n",
       "      <th>28</th>\n",
       "      <td>Sales staff</td>\n",
       "      <td>0</td>\n",
       "      <td>29010</td>\n",
       "    </tr>\n",
       "    <tr>\n",
       "      <th>29</th>\n",
       "      <td>Sales staff</td>\n",
       "      <td>1</td>\n",
       "      <td>3092</td>\n",
       "    </tr>\n",
       "    <tr>\n",
       "      <th>30</th>\n",
       "      <td>Secretaries</td>\n",
       "      <td>0</td>\n",
       "      <td>1213</td>\n",
       "    </tr>\n",
       "    <tr>\n",
       "      <th>31</th>\n",
       "      <td>Secretaries</td>\n",
       "      <td>1</td>\n",
       "      <td>92</td>\n",
       "    </tr>\n",
       "    <tr>\n",
       "      <th>32</th>\n",
       "      <td>Security staff</td>\n",
       "      <td>0</td>\n",
       "      <td>5999</td>\n",
       "    </tr>\n",
       "    <tr>\n",
       "      <th>33</th>\n",
       "      <td>Security staff</td>\n",
       "      <td>1</td>\n",
       "      <td>722</td>\n",
       "    </tr>\n",
       "    <tr>\n",
       "      <th>34</th>\n",
       "      <td>Waiters/barmen staff</td>\n",
       "      <td>0</td>\n",
       "      <td>1196</td>\n",
       "    </tr>\n",
       "    <tr>\n",
       "      <th>35</th>\n",
       "      <td>Waiters/barmen staff</td>\n",
       "      <td>1</td>\n",
       "      <td>152</td>\n",
       "    </tr>\n",
       "  </tbody>\n",
       "</table>\n",
       "</div>"
      ],
      "text/plain": [
       "          OCCUPATION_TYPE  TARGET  SK_ID_CURR\n",
       "0             Accountants       0        9339\n",
       "1             Accountants       1         474\n",
       "2          Cleaning staff       0        4206\n",
       "3          Cleaning staff       1         447\n",
       "4           Cooking staff       0        5325\n",
       "5           Cooking staff       1         621\n",
       "6              Core staff       0       25832\n",
       "7              Core staff       1        1738\n",
       "8                 Drivers       0       16496\n",
       "9                 Drivers       1        2107\n",
       "10               HR staff       0         527\n",
       "11               HR staff       1          36\n",
       "12  High skill tech staff       0       10679\n",
       "13  High skill tech staff       1         701\n",
       "14               IT staff       0         492\n",
       "15               IT staff       1          34\n",
       "16               Laborers       0       49348\n",
       "17               Laborers       1        5838\n",
       "18     Low-skill Laborers       0        1734\n",
       "19     Low-skill Laborers       1         359\n",
       "20               Managers       0       20043\n",
       "21               Managers       1        1328\n",
       "22         Medicine staff       0        7965\n",
       "23         Medicine staff       1         572\n",
       "24  Private service staff       0        2477\n",
       "25  Private service staff       1         175\n",
       "26          Realty agents       0         692\n",
       "27          Realty agents       1          59\n",
       "28            Sales staff       0       29010\n",
       "29            Sales staff       1        3092\n",
       "30            Secretaries       0        1213\n",
       "31            Secretaries       1          92\n",
       "32         Security staff       0        5999\n",
       "33         Security staff       1         722\n",
       "34   Waiters/barmen staff       0        1196\n",
       "35   Waiters/barmen staff       1         152"
      ]
     },
     "execution_count": 18,
     "metadata": {},
     "output_type": "execute_result"
    }
   ],
   "source": [
    "# reset the multiindex organization of dataframe.\n",
    "Occupation_df = Occupation_df.reset_index() \n",
    "Occupation_df"
   ]
  },
  {
   "cell_type": "code",
   "execution_count": 19,
   "id": "027f4ac8",
   "metadata": {},
   "outputs": [
    {
     "data": {
      "text/plain": [
       "array([ 9339,   474,  4206,   447,  5325,   621, 25832,  1738, 16496,\n",
       "        2107,   527,    36, 10679,   701,   492,    34, 49348,  5838,\n",
       "        1734,   359, 20043,  1328,  7965,   572,  2477,   175,   692,\n",
       "          59, 29010,  3092,  1213,    92,  5999,   722,  1196,   152],\n",
       "      dtype=int64)"
      ]
     },
     "execution_count": 19,
     "metadata": {},
     "output_type": "execute_result"
    }
   ],
   "source": [
    "# get the number of people grouped on type of occupation and target in an array form.\n",
    "value_counts = Occupation_df['SK_ID_CURR'].values\n",
    "value_counts"
   ]
  },
  {
   "cell_type": "code",
   "execution_count": 20,
   "id": "3120ef7f",
   "metadata": {},
   "outputs": [],
   "source": [
    "def repayers_to_applicants_ratio(values):\n",
    "    \"\"\"\n",
    "    Finds the ratio of Repayers to Applicants. This kind of is a \n",
    "    measure for safety. Larger the value better the applicant - More \n",
    "    safe for the company to lend loan to this category of workers.\n",
    "    \n",
    "    values: array of entires whose counts are given\n",
    "    returns the repayers to applicants ratio. \n",
    "    \n",
    "    precondition: The counts are such that the targets alligned are\n",
    "    in order 0 and 1\n",
    "    \"\"\"\n",
    "    flag = 1\n",
    "    ratios = []\n",
    "    for count in range(len(values)):\n",
    "        if flag == 1:\n",
    "            current_number = values[count]\n",
    "            next_number = values[count+1]\n",
    "            ratios.append(current_number/(current_number+next_number))\n",
    "            ratios.append(current_number/(current_number+next_number))\n",
    "        flag=flag*-1\n",
    "    return ratios"
   ]
  },
  {
   "cell_type": "code",
   "execution_count": 21,
   "id": "036b7004",
   "metadata": {},
   "outputs": [],
   "source": [
    "# find the ratios from the array values\n",
    "Occupation_df['Ratio R/A'] = repayers_to_applicants_ratio(value_counts)"
   ]
  },
  {
   "cell_type": "code",
   "execution_count": 22,
   "id": "fd31aca0",
   "metadata": {},
   "outputs": [
    {
     "data": {
      "text/html": [
       "<div>\n",
       "<style scoped>\n",
       "    .dataframe tbody tr th:only-of-type {\n",
       "        vertical-align: middle;\n",
       "    }\n",
       "\n",
       "    .dataframe tbody tr th {\n",
       "        vertical-align: top;\n",
       "    }\n",
       "\n",
       "    .dataframe thead th {\n",
       "        text-align: right;\n",
       "    }\n",
       "</style>\n",
       "<table border=\"1\" class=\"dataframe\">\n",
       "  <thead>\n",
       "    <tr style=\"text-align: right;\">\n",
       "      <th></th>\n",
       "      <th>OCCUPATION_TYPE</th>\n",
       "      <th>Ratio R/A</th>\n",
       "    </tr>\n",
       "  </thead>\n",
       "  <tbody>\n",
       "    <tr>\n",
       "      <th>0</th>\n",
       "      <td>Accountants</td>\n",
       "      <td>0.951697</td>\n",
       "    </tr>\n",
       "    <tr>\n",
       "      <th>6</th>\n",
       "      <td>High skill tech staff</td>\n",
       "      <td>0.938401</td>\n",
       "    </tr>\n",
       "    <tr>\n",
       "      <th>10</th>\n",
       "      <td>Managers</td>\n",
       "      <td>0.937860</td>\n",
       "    </tr>\n",
       "    <tr>\n",
       "      <th>3</th>\n",
       "      <td>Core staff</td>\n",
       "      <td>0.936960</td>\n",
       "    </tr>\n",
       "    <tr>\n",
       "      <th>5</th>\n",
       "      <td>HR staff</td>\n",
       "      <td>0.936057</td>\n",
       "    </tr>\n",
       "    <tr>\n",
       "      <th>7</th>\n",
       "      <td>IT staff</td>\n",
       "      <td>0.935361</td>\n",
       "    </tr>\n",
       "    <tr>\n",
       "      <th>12</th>\n",
       "      <td>Private service staff</td>\n",
       "      <td>0.934012</td>\n",
       "    </tr>\n",
       "    <tr>\n",
       "      <th>11</th>\n",
       "      <td>Medicine staff</td>\n",
       "      <td>0.932998</td>\n",
       "    </tr>\n",
       "    <tr>\n",
       "      <th>15</th>\n",
       "      <td>Secretaries</td>\n",
       "      <td>0.929502</td>\n",
       "    </tr>\n",
       "    <tr>\n",
       "      <th>13</th>\n",
       "      <td>Realty agents</td>\n",
       "      <td>0.921438</td>\n",
       "    </tr>\n",
       "    <tr>\n",
       "      <th>1</th>\n",
       "      <td>Cleaning staff</td>\n",
       "      <td>0.903933</td>\n",
       "    </tr>\n",
       "    <tr>\n",
       "      <th>14</th>\n",
       "      <td>Sales staff</td>\n",
       "      <td>0.903682</td>\n",
       "    </tr>\n",
       "    <tr>\n",
       "      <th>2</th>\n",
       "      <td>Cooking staff</td>\n",
       "      <td>0.895560</td>\n",
       "    </tr>\n",
       "    <tr>\n",
       "      <th>8</th>\n",
       "      <td>Laborers</td>\n",
       "      <td>0.894212</td>\n",
       "    </tr>\n",
       "    <tr>\n",
       "      <th>16</th>\n",
       "      <td>Security staff</td>\n",
       "      <td>0.892576</td>\n",
       "    </tr>\n",
       "    <tr>\n",
       "      <th>17</th>\n",
       "      <td>Waiters/barmen staff</td>\n",
       "      <td>0.887240</td>\n",
       "    </tr>\n",
       "    <tr>\n",
       "      <th>4</th>\n",
       "      <td>Drivers</td>\n",
       "      <td>0.886739</td>\n",
       "    </tr>\n",
       "    <tr>\n",
       "      <th>9</th>\n",
       "      <td>Low-skill Laborers</td>\n",
       "      <td>0.828476</td>\n",
       "    </tr>\n",
       "  </tbody>\n",
       "</table>\n",
       "</div>"
      ],
      "text/plain": [
       "          OCCUPATION_TYPE  Ratio R/A\n",
       "0             Accountants   0.951697\n",
       "6   High skill tech staff   0.938401\n",
       "10               Managers   0.937860\n",
       "3              Core staff   0.936960\n",
       "5                HR staff   0.936057\n",
       "7                IT staff   0.935361\n",
       "12  Private service staff   0.934012\n",
       "11         Medicine staff   0.932998\n",
       "15            Secretaries   0.929502\n",
       "13          Realty agents   0.921438\n",
       "1          Cleaning staff   0.903933\n",
       "14            Sales staff   0.903682\n",
       "2           Cooking staff   0.895560\n",
       "8                Laborers   0.894212\n",
       "16         Security staff   0.892576\n",
       "17   Waiters/barmen staff   0.887240\n",
       "4                 Drivers   0.886739\n",
       "9      Low-skill Laborers   0.828476"
      ]
     },
     "execution_count": 22,
     "metadata": {},
     "output_type": "execute_result"
    }
   ],
   "source": [
    "# get the ratio and values based on the order of saftety.\n",
    "\n",
    "Occupation_ratio_df = Occupation_df.groupby(['OCCUPATION_TYPE','Ratio R/A']).count().drop(['TARGET', 'SK_ID_CURR'],axis=1)\n",
    "Occupation_ratio_df = Occupation_ratio_df.reset_index() \n",
    "Occupation_ratio_df = Occupation_ratio_df.sort_values(['Ratio R/A'],ascending=False)\n",
    "Occupation_ratio_df"
   ]
  },
  {
   "cell_type": "code",
   "execution_count": 23,
   "id": "9ee195cb",
   "metadata": {},
   "outputs": [
    {
     "data": {
      "text/plain": [
       "Text(0, 0.5, 'Mean R/A Ratio')"
      ]
     },
     "execution_count": 23,
     "metadata": {},
     "output_type": "execute_result"
    },
    {
     "data": {
      "image/png": "[encoded data removed]",
      "text/plain": [
       "<Figure size 1500x700 with 1 Axes>"
      ]
     },
     "metadata": {},
     "output_type": "display_data"
    }
   ],
   "source": [
    "# Occupation type and occupation based repayment to applicants ratio.\n",
    "fig,ax = plt.subplots(figsize = (15,7))\n",
    "sns.barplot(x='OCCUPATION_TYPE',y='Ratio R/A',data=Occupation_ratio_df,palette=sns.color_palette(\"GnBu_d\"))\n",
    "plt.xticks(rotation=70)\n",
    "plt.xlabel(\"Occupation Type\")\n",
    "plt.ylabel(\"Mean R/A Ratio\")"
   ]
  },
  {
   "attachments": {},
   "cell_type": "markdown",
   "id": "d0834e9b",
   "metadata": {
    "id": "1S7jQrMfVAOi",
    "papermill": {
     "duration": 0.016427,
     "end_time": "2022-07-21T13:15:59.030113",
     "exception": false,
     "start_time": "2022-07-21T13:15:59.013686",
     "status": "completed"
    },
    "tags": []
   },
   "source": [
    "# features Selection\n",
    "* select the features that correlate the most. For now, I do it manually."
   ]
  },
  {
   "cell_type": "code",
   "execution_count": 24,
   "id": "504a4697",
   "metadata": {
    "execution": {
     "iopub.execute_input": "2022-07-21T13:15:59.065707Z",
     "iopub.status.busy": "2022-07-21T13:15:59.065197Z",
     "iopub.status.idle": "2022-07-21T13:15:59.095555Z",
     "shell.execute_reply": "2022-07-21T13:15:59.094322Z"
    },
    "id": "CnSSMsNbZ6PA",
    "papermill": {
     "duration": 0.051544,
     "end_time": "2022-07-21T13:15:59.098425",
     "exception": false,
     "start_time": "2022-07-21T13:15:59.046881",
     "status": "completed"
    },
    "tags": []
   },
   "outputs": [],
   "source": [
    "train = train[['TARGET', 'EXT_SOURCE_3', 'EXT_SOURCE_1', 'EXT_SOURCE_2', 'DAYS_EMPLOYED', 'DAYS_BIRTH', 'REGION_RATING_CLIENT_W_CITY', 'REGION_RATING_CLIENT', 'DAYS_LAST_PHONE_CHANGE', 'DAYS_ID_PUBLISH', 'DEF_30_CNT_SOCIAL_CIRCLE']]"
   ]
  },
  {
   "cell_type": "code",
   "execution_count": 25,
   "id": "7ab2d0b7",
   "metadata": {
    "execution": {
     "iopub.execute_input": "2022-07-21T13:15:59.135816Z",
     "iopub.status.busy": "2022-07-21T13:15:59.135324Z",
     "iopub.status.idle": "2022-07-21T13:15:59.162501Z",
     "shell.execute_reply": "2022-07-21T13:15:59.161580Z"
    },
    "id": "zk-SZoQLa3S2",
    "outputId": "52f66a53-c227-4a61-f92c-ffee64e90d0d",
    "papermill": {
     "duration": 0.048708,
     "end_time": "2022-07-21T13:15:59.164705",
     "exception": false,
     "start_time": "2022-07-21T13:15:59.115997",
     "status": "completed"
    },
    "tags": []
   },
   "outputs": [
    {
     "data": {
      "text/html": [
       "<div>\n",
       "<style scoped>\n",
       "    .dataframe tbody tr th:only-of-type {\n",
       "        vertical-align: middle;\n",
       "    }\n",
       "\n",
       "    .dataframe tbody tr th {\n",
       "        vertical-align: top;\n",
       "    }\n",
       "\n",
       "    .dataframe thead th {\n",
       "        text-align: right;\n",
       "    }\n",
       "</style>\n",
       "<table border=\"1\" class=\"dataframe\">\n",
       "  <thead>\n",
       "    <tr style=\"text-align: right;\">\n",
       "      <th></th>\n",
       "      <th>TARGET</th>\n",
       "      <th>EXT_SOURCE_3</th>\n",
       "      <th>EXT_SOURCE_1</th>\n",
       "      <th>EXT_SOURCE_2</th>\n",
       "      <th>DAYS_EMPLOYED</th>\n",
       "      <th>DAYS_BIRTH</th>\n",
       "      <th>REGION_RATING_CLIENT_W_CITY</th>\n",
       "      <th>REGION_RATING_CLIENT</th>\n",
       "      <th>DAYS_LAST_PHONE_CHANGE</th>\n",
       "      <th>DAYS_ID_PUBLISH</th>\n",
       "      <th>DEF_30_CNT_SOCIAL_CIRCLE</th>\n",
       "    </tr>\n",
       "  </thead>\n",
       "  <tbody>\n",
       "    <tr>\n",
       "      <th>0</th>\n",
       "      <td>1</td>\n",
       "      <td>0.139376</td>\n",
       "      <td>0.083037</td>\n",
       "      <td>0.262949</td>\n",
       "      <td>-637</td>\n",
       "      <td>-9461</td>\n",
       "      <td>2</td>\n",
       "      <td>2</td>\n",
       "      <td>-1134.0</td>\n",
       "      <td>-2120</td>\n",
       "      <td>2.0</td>\n",
       "    </tr>\n",
       "    <tr>\n",
       "      <th>1</th>\n",
       "      <td>0</td>\n",
       "      <td>NaN</td>\n",
       "      <td>0.311267</td>\n",
       "      <td>0.622246</td>\n",
       "      <td>-1188</td>\n",
       "      <td>-16765</td>\n",
       "      <td>1</td>\n",
       "      <td>1</td>\n",
       "      <td>-828.0</td>\n",
       "      <td>-291</td>\n",
       "      <td>0.0</td>\n",
       "    </tr>\n",
       "    <tr>\n",
       "      <th>2</th>\n",
       "      <td>0</td>\n",
       "      <td>0.729567</td>\n",
       "      <td>NaN</td>\n",
       "      <td>0.555912</td>\n",
       "      <td>-225</td>\n",
       "      <td>-19046</td>\n",
       "      <td>2</td>\n",
       "      <td>2</td>\n",
       "      <td>-815.0</td>\n",
       "      <td>-2531</td>\n",
       "      <td>0.0</td>\n",
       "    </tr>\n",
       "    <tr>\n",
       "      <th>3</th>\n",
       "      <td>0</td>\n",
       "      <td>NaN</td>\n",
       "      <td>NaN</td>\n",
       "      <td>0.650442</td>\n",
       "      <td>-3039</td>\n",
       "      <td>-19005</td>\n",
       "      <td>2</td>\n",
       "      <td>2</td>\n",
       "      <td>-617.0</td>\n",
       "      <td>-2437</td>\n",
       "      <td>0.0</td>\n",
       "    </tr>\n",
       "    <tr>\n",
       "      <th>4</th>\n",
       "      <td>0</td>\n",
       "      <td>NaN</td>\n",
       "      <td>NaN</td>\n",
       "      <td>0.322738</td>\n",
       "      <td>-3038</td>\n",
       "      <td>-19932</td>\n",
       "      <td>2</td>\n",
       "      <td>2</td>\n",
       "      <td>-1106.0</td>\n",
       "      <td>-3458</td>\n",
       "      <td>0.0</td>\n",
       "    </tr>\n",
       "    <tr>\n",
       "      <th>...</th>\n",
       "      <td>...</td>\n",
       "      <td>...</td>\n",
       "      <td>...</td>\n",
       "      <td>...</td>\n",
       "      <td>...</td>\n",
       "      <td>...</td>\n",
       "      <td>...</td>\n",
       "      <td>...</td>\n",
       "      <td>...</td>\n",
       "      <td>...</td>\n",
       "      <td>...</td>\n",
       "    </tr>\n",
       "    <tr>\n",
       "      <th>307506</th>\n",
       "      <td>0</td>\n",
       "      <td>NaN</td>\n",
       "      <td>0.145570</td>\n",
       "      <td>0.681632</td>\n",
       "      <td>-236</td>\n",
       "      <td>-9327</td>\n",
       "      <td>1</td>\n",
       "      <td>1</td>\n",
       "      <td>-273.0</td>\n",
       "      <td>-1982</td>\n",
       "      <td>0.0</td>\n",
       "    </tr>\n",
       "    <tr>\n",
       "      <th>307507</th>\n",
       "      <td>0</td>\n",
       "      <td>NaN</td>\n",
       "      <td>NaN</td>\n",
       "      <td>0.115992</td>\n",
       "      <td>365243</td>\n",
       "      <td>-20775</td>\n",
       "      <td>2</td>\n",
       "      <td>2</td>\n",
       "      <td>0.0</td>\n",
       "      <td>-4090</td>\n",
       "      <td>0.0</td>\n",
       "    </tr>\n",
       "    <tr>\n",
       "      <th>307508</th>\n",
       "      <td>0</td>\n",
       "      <td>0.218859</td>\n",
       "      <td>0.744026</td>\n",
       "      <td>0.535722</td>\n",
       "      <td>-7921</td>\n",
       "      <td>-14966</td>\n",
       "      <td>3</td>\n",
       "      <td>3</td>\n",
       "      <td>-1909.0</td>\n",
       "      <td>-5150</td>\n",
       "      <td>0.0</td>\n",
       "    </tr>\n",
       "    <tr>\n",
       "      <th>307509</th>\n",
       "      <td>1</td>\n",
       "      <td>0.661024</td>\n",
       "      <td>NaN</td>\n",
       "      <td>0.514163</td>\n",
       "      <td>-4786</td>\n",
       "      <td>-11961</td>\n",
       "      <td>2</td>\n",
       "      <td>2</td>\n",
       "      <td>-322.0</td>\n",
       "      <td>-931</td>\n",
       "      <td>0.0</td>\n",
       "    </tr>\n",
       "    <tr>\n",
       "      <th>307510</th>\n",
       "      <td>0</td>\n",
       "      <td>0.113922</td>\n",
       "      <td>0.734460</td>\n",
       "      <td>0.708569</td>\n",
       "      <td>-1262</td>\n",
       "      <td>-16856</td>\n",
       "      <td>1</td>\n",
       "      <td>1</td>\n",
       "      <td>-787.0</td>\n",
       "      <td>-410</td>\n",
       "      <td>0.0</td>\n",
       "    </tr>\n",
       "  </tbody>\n",
       "</table>\n",
       "<p>307511 rows × 11 columns</p>\n",
       "</div>"
      ],
      "text/plain": [
       "        TARGET  EXT_SOURCE_3  EXT_SOURCE_1  EXT_SOURCE_2  DAYS_EMPLOYED  \\\n",
       "0            1      0.139376      0.083037      0.262949           -637   \n",
       "1            0           NaN      0.311267      0.622246          -1188   \n",
       "2            0      0.729567           NaN      0.555912           -225   \n",
       "3            0           NaN           NaN      0.650442          -3039   \n",
       "4            0           NaN           NaN      0.322738          -3038   \n",
       "...        ...           ...           ...           ...            ...   \n",
       "307506       0           NaN      0.145570      0.681632           -236   \n",
       "307507       0           NaN           NaN      0.115992         365243   \n",
       "307508       0      0.218859      0.744026      0.535722          -7921   \n",
       "307509       1      0.661024           NaN      0.514163          -4786   \n",
       "307510       0      0.113922      0.734460      0.708569          -1262   \n",
       "\n",
       "        DAYS_BIRTH  REGION_RATING_CLIENT_W_CITY  REGION_RATING_CLIENT  \\\n",
       "0            -9461                            2                     2   \n",
       "1           -16765                            1                     1   \n",
       "2           -19046                            2                     2   \n",
       "3           -19005                            2                     2   \n",
       "4           -19932                            2                     2   \n",
       "...            ...                          ...                   ...   \n",
       "307506       -9327                            1                     1   \n",
       "307507      -20775                            2                     2   \n",
       "307508      -14966                            3                     3   \n",
       "307509      -11961                            2                     2   \n",
       "307510      -16856                            1                     1   \n",
       "\n",
       "        DAYS_LAST_PHONE_CHANGE  DAYS_ID_PUBLISH  DEF_30_CNT_SOCIAL_CIRCLE  \n",
       "0                      -1134.0            -2120                       2.0  \n",
       "1                       -828.0             -291                       0.0  \n",
       "2                       -815.0            -2531                       0.0  \n",
       "3                       -617.0            -2437                       0.0  \n",
       "4                      -1106.0            -3458                       0.0  \n",
       "...                        ...              ...                       ...  \n",
       "307506                  -273.0            -1982                       0.0  \n",
       "307507                     0.0            -4090                       0.0  \n",
       "307508                 -1909.0            -5150                       0.0  \n",
       "307509                  -322.0             -931                       0.0  \n",
       "307510                  -787.0             -410                       0.0  \n",
       "\n",
       "[307511 rows x 11 columns]"
      ]
     },
     "execution_count": 25,
     "metadata": {},
     "output_type": "execute_result"
    }
   ],
   "source": [
    "train"
   ]
  },
  {
   "cell_type": "code",
   "execution_count": 26,
   "id": "3507cbab",
   "metadata": {
    "execution": {
     "iopub.execute_input": "2022-07-21T13:15:59.202636Z",
     "iopub.status.busy": "2022-07-21T13:15:59.201814Z",
     "iopub.status.idle": "2022-07-21T13:15:59.210906Z",
     "shell.execute_reply": "2022-07-21T13:15:59.209891Z"
    },
    "id": "70pQo3ukbWiW",
    "papermill": {
     "duration": 0.030979,
     "end_time": "2022-07-21T13:15:59.213665",
     "exception": false,
     "start_time": "2022-07-21T13:15:59.182686",
     "status": "completed"
    },
    "tags": []
   },
   "outputs": [],
   "source": [
    "test = test[['EXT_SOURCE_3', 'EXT_SOURCE_1', 'EXT_SOURCE_2', 'DAYS_EMPLOYED', 'DAYS_BIRTH', 'REGION_RATING_CLIENT_W_CITY', 'REGION_RATING_CLIENT', 'DAYS_LAST_PHONE_CHANGE', 'DAYS_ID_PUBLISH', 'DEF_30_CNT_SOCIAL_CIRCLE']]"
   ]
  },
  {
   "cell_type": "code",
   "execution_count": 27,
   "id": "75343ae1",
   "metadata": {
    "execution": {
     "iopub.execute_input": "2022-07-21T13:15:59.252032Z",
     "iopub.status.busy": "2022-07-21T13:15:59.251158Z",
     "iopub.status.idle": "2022-07-21T13:15:59.271276Z",
     "shell.execute_reply": "2022-07-21T13:15:59.270275Z"
    },
    "id": "sfHi3E2RbjJi",
    "outputId": "73a7c58c-ab42-4dd7-909b-6e2b7a7e15d1",
    "papermill": {
     "duration": 0.041502,
     "end_time": "2022-07-21T13:15:59.273413",
     "exception": false,
     "start_time": "2022-07-21T13:15:59.231911",
     "status": "completed"
    },
    "tags": []
   },
   "outputs": [
    {
     "data": {
      "text/html": [
       "<div>\n",
       "<style scoped>\n",
       "    .dataframe tbody tr th:only-of-type {\n",
       "        vertical-align: middle;\n",
       "    }\n",
       "\n",
       "    .dataframe tbody tr th {\n",
       "        vertical-align: top;\n",
       "    }\n",
       "\n",
       "    .dataframe thead th {\n",
       "        text-align: right;\n",
       "    }\n",
       "</style>\n",
       "<table border=\"1\" class=\"dataframe\">\n",
       "  <thead>\n",
       "    <tr style=\"text-align: right;\">\n",
       "      <th></th>\n",
       "      <th>EXT_SOURCE_3</th>\n",
       "      <th>EXT_SOURCE_1</th>\n",
       "      <th>EXT_SOURCE_2</th>\n",
       "      <th>DAYS_EMPLOYED</th>\n",
       "      <th>DAYS_BIRTH</th>\n",
       "      <th>REGION_RATING_CLIENT_W_CITY</th>\n",
       "      <th>REGION_RATING_CLIENT</th>\n",
       "      <th>DAYS_LAST_PHONE_CHANGE</th>\n",
       "      <th>DAYS_ID_PUBLISH</th>\n",
       "      <th>DEF_30_CNT_SOCIAL_CIRCLE</th>\n",
       "    </tr>\n",
       "  </thead>\n",
       "  <tbody>\n",
       "    <tr>\n",
       "      <th>0</th>\n",
       "      <td>0.159520</td>\n",
       "      <td>0.752614</td>\n",
       "      <td>0.789654</td>\n",
       "      <td>-2329</td>\n",
       "      <td>-19241</td>\n",
       "      <td>2</td>\n",
       "      <td>2</td>\n",
       "      <td>-1740.0</td>\n",
       "      <td>-812</td>\n",
       "      <td>0.0</td>\n",
       "    </tr>\n",
       "    <tr>\n",
       "      <th>1</th>\n",
       "      <td>0.432962</td>\n",
       "      <td>0.564990</td>\n",
       "      <td>0.291656</td>\n",
       "      <td>-4469</td>\n",
       "      <td>-18064</td>\n",
       "      <td>2</td>\n",
       "      <td>2</td>\n",
       "      <td>0.0</td>\n",
       "      <td>-1623</td>\n",
       "      <td>0.0</td>\n",
       "    </tr>\n",
       "    <tr>\n",
       "      <th>2</th>\n",
       "      <td>0.610991</td>\n",
       "      <td>NaN</td>\n",
       "      <td>0.699787</td>\n",
       "      <td>-4458</td>\n",
       "      <td>-20038</td>\n",
       "      <td>2</td>\n",
       "      <td>2</td>\n",
       "      <td>-856.0</td>\n",
       "      <td>-3503</td>\n",
       "      <td>0.0</td>\n",
       "    </tr>\n",
       "    <tr>\n",
       "      <th>3</th>\n",
       "      <td>0.612704</td>\n",
       "      <td>0.525734</td>\n",
       "      <td>0.509677</td>\n",
       "      <td>-1866</td>\n",
       "      <td>-13976</td>\n",
       "      <td>2</td>\n",
       "      <td>2</td>\n",
       "      <td>-1805.0</td>\n",
       "      <td>-4208</td>\n",
       "      <td>0.0</td>\n",
       "    </tr>\n",
       "    <tr>\n",
       "      <th>4</th>\n",
       "      <td>NaN</td>\n",
       "      <td>0.202145</td>\n",
       "      <td>0.425687</td>\n",
       "      <td>-2191</td>\n",
       "      <td>-13040</td>\n",
       "      <td>2</td>\n",
       "      <td>2</td>\n",
       "      <td>-821.0</td>\n",
       "      <td>-4262</td>\n",
       "      <td>0.0</td>\n",
       "    </tr>\n",
       "    <tr>\n",
       "      <th>...</th>\n",
       "      <td>...</td>\n",
       "      <td>...</td>\n",
       "      <td>...</td>\n",
       "      <td>...</td>\n",
       "      <td>...</td>\n",
       "      <td>...</td>\n",
       "      <td>...</td>\n",
       "      <td>...</td>\n",
       "      <td>...</td>\n",
       "      <td>...</td>\n",
       "    </tr>\n",
       "    <tr>\n",
       "      <th>48739</th>\n",
       "      <td>0.643026</td>\n",
       "      <td>NaN</td>\n",
       "      <td>0.648575</td>\n",
       "      <td>-5169</td>\n",
       "      <td>-19970</td>\n",
       "      <td>3</td>\n",
       "      <td>3</td>\n",
       "      <td>-684.0</td>\n",
       "      <td>-3399</td>\n",
       "      <td>0.0</td>\n",
       "    </tr>\n",
       "    <tr>\n",
       "      <th>48740</th>\n",
       "      <td>NaN</td>\n",
       "      <td>NaN</td>\n",
       "      <td>0.684596</td>\n",
       "      <td>-1149</td>\n",
       "      <td>-11186</td>\n",
       "      <td>2</td>\n",
       "      <td>2</td>\n",
       "      <td>0.0</td>\n",
       "      <td>-3003</td>\n",
       "      <td>0.0</td>\n",
       "    </tr>\n",
       "    <tr>\n",
       "      <th>48741</th>\n",
       "      <td>0.283712</td>\n",
       "      <td>0.733503</td>\n",
       "      <td>0.632770</td>\n",
       "      <td>-3037</td>\n",
       "      <td>-15922</td>\n",
       "      <td>2</td>\n",
       "      <td>2</td>\n",
       "      <td>-838.0</td>\n",
       "      <td>-1504</td>\n",
       "      <td>0.0</td>\n",
       "    </tr>\n",
       "    <tr>\n",
       "      <th>48742</th>\n",
       "      <td>0.595456</td>\n",
       "      <td>0.373090</td>\n",
       "      <td>0.445701</td>\n",
       "      <td>-2731</td>\n",
       "      <td>-13968</td>\n",
       "      <td>2</td>\n",
       "      <td>2</td>\n",
       "      <td>-2308.0</td>\n",
       "      <td>-1364</td>\n",
       "      <td>0.0</td>\n",
       "    </tr>\n",
       "    <tr>\n",
       "      <th>48743</th>\n",
       "      <td>0.272134</td>\n",
       "      <td>NaN</td>\n",
       "      <td>0.456541</td>\n",
       "      <td>-633</td>\n",
       "      <td>-13962</td>\n",
       "      <td>2</td>\n",
       "      <td>2</td>\n",
       "      <td>-327.0</td>\n",
       "      <td>-4220</td>\n",
       "      <td>0.0</td>\n",
       "    </tr>\n",
       "  </tbody>\n",
       "</table>\n",
       "<p>48744 rows × 10 columns</p>\n",
       "</div>"
      ],
      "text/plain": [
       "       EXT_SOURCE_3  EXT_SOURCE_1  EXT_SOURCE_2  DAYS_EMPLOYED  DAYS_BIRTH  \\\n",
       "0          0.159520      0.752614      0.789654          -2329      -19241   \n",
       "1          0.432962      0.564990      0.291656          -4469      -18064   \n",
       "2          0.610991           NaN      0.699787          -4458      -20038   \n",
       "3          0.612704      0.525734      0.509677          -1866      -13976   \n",
       "4               NaN      0.202145      0.425687          -2191      -13040   \n",
       "...             ...           ...           ...            ...         ...   \n",
       "48739      0.643026           NaN      0.648575          -5169      -19970   \n",
       "48740           NaN           NaN      0.684596          -1149      -11186   \n",
       "48741      0.283712      0.733503      0.632770          -3037      -15922   \n",
       "48742      0.595456      0.373090      0.445701          -2731      -13968   \n",
       "48743      0.272134           NaN      0.456541           -633      -13962   \n",
       "\n",
       "       REGION_RATING_CLIENT_W_CITY  REGION_RATING_CLIENT  \\\n",
       "0                                2                     2   \n",
       "1                                2                     2   \n",
       "2                                2                     2   \n",
       "3                                2                     2   \n",
       "4                                2                     2   \n",
       "...                            ...                   ...   \n",
       "48739                            3                     3   \n",
       "48740                            2                     2   \n",
       "48741                            2                     2   \n",
       "48742                            2                     2   \n",
       "48743                            2                     2   \n",
       "\n",
       "       DAYS_LAST_PHONE_CHANGE  DAYS_ID_PUBLISH  DEF_30_CNT_SOCIAL_CIRCLE  \n",
       "0                     -1740.0             -812                       0.0  \n",
       "1                         0.0            -1623                       0.0  \n",
       "2                      -856.0            -3503                       0.0  \n",
       "3                     -1805.0            -4208                       0.0  \n",
       "4                      -821.0            -4262                       0.0  \n",
       "...                       ...              ...                       ...  \n",
       "48739                  -684.0            -3399                       0.0  \n",
       "48740                     0.0            -3003                       0.0  \n",
       "48741                  -838.0            -1504                       0.0  \n",
       "48742                 -2308.0            -1364                       0.0  \n",
       "48743                  -327.0            -4220                       0.0  \n",
       "\n",
       "[48744 rows x 10 columns]"
      ]
     },
     "execution_count": 27,
     "metadata": {},
     "output_type": "execute_result"
    }
   ],
   "source": [
    "test"
   ]
  },
  {
   "attachments": {},
   "cell_type": "markdown",
   "id": "ee7c2350",
   "metadata": {
    "id": "woOtXxQOYn8E",
    "papermill": {
     "duration": 0.017532,
     "end_time": "2022-07-21T13:15:59.308621",
     "exception": false,
     "start_time": "2022-07-21T13:15:59.291089",
     "status": "completed"
    },
    "tags": []
   },
   "source": [
    "# Handling Null"
   ]
  },
  {
   "cell_type": "code",
   "execution_count": 28,
   "id": "0f627d26",
   "metadata": {
    "execution": {
     "iopub.execute_input": "2022-07-21T13:15:59.346507Z",
     "iopub.status.busy": "2022-07-21T13:15:59.345652Z",
     "iopub.status.idle": "2022-07-21T13:15:59.351991Z",
     "shell.execute_reply": "2022-07-21T13:15:59.350849Z"
    },
    "id": "v4J9HcuXYrAH",
    "outputId": "8d32bde4-13c0-4a99-d13f-8f05498a7327",
    "papermill": {
     "duration": 0.028052,
     "end_time": "2022-07-21T13:15:59.354505",
     "exception": false,
     "start_time": "2022-07-21T13:15:59.326453",
     "status": "completed"
    },
    "tags": []
   },
   "outputs": [],
   "source": [
    "train['TRAINING'] = True\n",
    "test['TRAINING'] = False"
   ]
  },
  {
   "cell_type": "code",
   "execution_count": 29,
   "id": "3f2ad561",
   "metadata": {
    "execution": {
     "iopub.execute_input": "2022-07-21T13:15:59.392802Z",
     "iopub.status.busy": "2022-07-21T13:15:59.391995Z",
     "iopub.status.idle": "2022-07-21T13:15:59.396915Z",
     "shell.execute_reply": "2022-07-21T13:15:59.395955Z"
    },
    "id": "y9sGbHWNYnNl",
    "papermill": {
     "duration": 0.026926,
     "end_time": "2022-07-21T13:15:59.399273",
     "exception": false,
     "start_time": "2022-07-21T13:15:59.372347",
     "status": "completed"
    },
    "tags": []
   },
   "outputs": [],
   "source": [
    "y = train.TARGET"
   ]
  },
  {
   "cell_type": "code",
   "execution_count": 30,
   "id": "ca010dff",
   "metadata": {
    "execution": {
     "iopub.execute_input": "2022-07-21T13:15:59.437363Z",
     "iopub.status.busy": "2022-07-21T13:15:59.436537Z",
     "iopub.status.idle": "2022-07-21T13:15:59.444626Z",
     "shell.execute_reply": "2022-07-21T13:15:59.443471Z"
    },
    "id": "UNafXabscZ0T",
    "outputId": "e7dac0b7-9e4e-41b9-9f50-f7213f249e67",
    "papermill": {
     "duration": 0.030102,
     "end_time": "2022-07-21T13:15:59.447255",
     "exception": false,
     "start_time": "2022-07-21T13:15:59.417153",
     "status": "completed"
    },
    "tags": []
   },
   "outputs": [
    {
     "data": {
      "text/plain": [
       "0         1\n",
       "1         0\n",
       "2         0\n",
       "3         0\n",
       "4         0\n",
       "         ..\n",
       "307506    0\n",
       "307507    0\n",
       "307508    0\n",
       "307509    1\n",
       "307510    0\n",
       "Name: TARGET, Length: 307511, dtype: int64"
      ]
     },
     "execution_count": 30,
     "metadata": {},
     "output_type": "execute_result"
    }
   ],
   "source": [
    "y"
   ]
  },
  {
   "cell_type": "code",
   "execution_count": 31,
   "id": "4149d382",
   "metadata": {
    "execution": {
     "iopub.execute_input": "2022-07-21T13:15:59.486236Z",
     "iopub.status.busy": "2022-07-21T13:15:59.485436Z",
     "iopub.status.idle": "2022-07-21T13:15:59.499314Z",
     "shell.execute_reply": "2022-07-21T13:15:59.498238Z"
    },
    "id": "o04Aw5kEeQrJ",
    "papermill": {
     "duration": 0.037248,
     "end_time": "2022-07-21T13:15:59.502427",
     "exception": false,
     "start_time": "2022-07-21T13:15:59.465179",
     "status": "completed"
    },
    "tags": []
   },
   "outputs": [],
   "source": [
    "train.drop(columns = 'TARGET', inplace=True)"
   ]
  },
  {
   "cell_type": "code",
   "execution_count": 32,
   "id": "985c1e88",
   "metadata": {
    "execution": {
     "iopub.execute_input": "2022-07-21T13:15:59.542163Z",
     "iopub.status.busy": "2022-07-21T13:15:59.541256Z",
     "iopub.status.idle": "2022-07-21T13:15:59.569096Z",
     "shell.execute_reply": "2022-07-21T13:15:59.567998Z"
    },
    "id": "sdOFA3uSeW8K",
    "papermill": {
     "duration": 0.050327,
     "end_time": "2022-07-21T13:15:59.571903",
     "exception": false,
     "start_time": "2022-07-21T13:15:59.521576",
     "status": "completed"
    },
    "tags": []
   },
   "outputs": [],
   "source": [
    "x = pd.concat([train, test], axis = 0)"
   ]
  },
  {
   "cell_type": "code",
   "execution_count": 33,
   "id": "df64d68a",
   "metadata": {
    "execution": {
     "iopub.execute_input": "2022-07-21T13:15:59.610679Z",
     "iopub.status.busy": "2022-07-21T13:15:59.609812Z",
     "iopub.status.idle": "2022-07-21T13:15:59.640775Z",
     "shell.execute_reply": "2022-07-21T13:15:59.639453Z"
    },
    "id": "39o3LvrFiwwu",
    "outputId": "a153024d-bae6-4fa3-b3d2-68b4dee1325a",
    "papermill": {
     "duration": 0.053448,
     "end_time": "2022-07-21T13:15:59.643378",
     "exception": false,
     "start_time": "2022-07-21T13:15:59.589930",
     "status": "completed"
    },
    "tags": []
   },
   "outputs": [
    {
     "data": {
      "text/plain": [
       "count    356255.000000\n",
       "mean      64317.231413\n",
       "std      141705.532576\n",
       "min      -17912.000000\n",
       "25%       -2781.000000\n",
       "50%       -1224.000000\n",
       "75%        -290.000000\n",
       "max      365243.000000\n",
       "Name: DAYS_EMPLOYED, dtype: float64"
      ]
     },
     "execution_count": 33,
     "metadata": {},
     "output_type": "execute_result"
    }
   ],
   "source": [
    "x.DAYS_EMPLOYED.describe()"
   ]
  },
  {
   "cell_type": "code",
   "execution_count": 34,
   "id": "b561f43d",
   "metadata": {
    "execution": {
     "iopub.execute_input": "2022-07-21T13:15:59.685655Z",
     "iopub.status.busy": "2022-07-21T13:15:59.684228Z",
     "iopub.status.idle": "2022-07-21T13:15:59.814863Z",
     "shell.execute_reply": "2022-07-21T13:15:59.813428Z"
    },
    "id": "2vg9TUP_i8LP",
    "papermill": {
     "duration": 0.155647,
     "end_time": "2022-07-21T13:15:59.817736",
     "exception": false,
     "start_time": "2022-07-21T13:15:59.662089",
     "status": "completed"
    },
    "tags": []
   },
   "outputs": [],
   "source": [
    "x['DAYS_EMPLOYED'] = x['DAYS_EMPLOYED'].apply(lambda x: np.nan if x == 365243 else x)"
   ]
  },
  {
   "cell_type": "markdown",
   "id": "28450828",
   "metadata": {
    "id": "NEbzQncfiuKh",
    "papermill": {
     "duration": 0.018392,
     "end_time": "2022-07-21T13:15:59.854901",
     "exception": false,
     "start_time": "2022-07-21T13:15:59.836509",
     "status": "completed"
    },
    "tags": []
   },
   "source": [
    "# Clean up"
   ]
  },
  {
   "cell_type": "code",
   "execution_count": 35,
   "id": "9aa53bd7",
   "metadata": {
    "execution": {
     "iopub.execute_input": "2022-07-21T13:15:59.894769Z",
     "iopub.status.busy": "2022-07-21T13:15:59.893888Z",
     "iopub.status.idle": "2022-07-21T13:16:01.629774Z",
     "shell.execute_reply": "2022-07-21T13:16:01.628508Z"
    },
    "id": "MCIi-lvJsEt7",
    "outputId": "d834efad-4ebf-4c09-9a1f-6d444af16f02",
    "papermill": {
     "duration": 1.759352,
     "end_time": "2022-07-21T13:16:01.632514",
     "exception": false,
     "start_time": "2022-07-21T13:15:59.873162",
     "status": "completed"
    },
    "tags": []
   },
   "outputs": [
    {
     "data": {
      "image/png": "[encoded data removed]",
      "text/plain": [
       "<Figure size 1500x1000 with 12 Axes>"
      ]
     },
     "metadata": {},
     "output_type": "display_data"
    }
   ],
   "source": [
    "x.hist(figsize = (15,10), bins = 20);"
   ]
  },
  {
   "cell_type": "code",
   "execution_count": 36,
   "id": "a81df895",
   "metadata": {
    "execution": {
     "iopub.execute_input": "2022-07-21T13:16:01.675106Z",
     "iopub.status.busy": "2022-07-21T13:16:01.674589Z",
     "iopub.status.idle": "2022-07-21T13:16:01.757717Z",
     "shell.execute_reply": "2022-07-21T13:16:01.756452Z"
    },
    "id": "xBQbmb_VmIHU",
    "outputId": "bbbd7807-5888-4f35-8511-a465a2e1496e",
    "papermill": {
     "duration": 0.109216,
     "end_time": "2022-07-21T13:16:01.760677",
     "exception": false,
     "start_time": "2022-07-21T13:16:01.651461",
     "status": "completed"
    },
    "tags": []
   },
   "outputs": [
    {
     "data": {
      "text/plain": [
       "EXT_SOURCE_3                      814\n",
       "EXT_SOURCE_1                   134315\n",
       "EXT_SOURCE_2                   127157\n",
       "DAYS_EMPLOYED                   12895\n",
       "DAYS_BIRTH                      17467\n",
       "REGION_RATING_CLIENT_W_CITY         4\n",
       "REGION_RATING_CLIENT                3\n",
       "DAYS_LAST_PHONE_CHANGE           3846\n",
       "DAYS_ID_PUBLISH                  6224\n",
       "DEF_30_CNT_SOCIAL_CIRCLE           10\n",
       "TRAINING                            2\n",
       "dtype: int64"
      ]
     },
     "execution_count": 36,
     "metadata": {},
     "output_type": "execute_result"
    }
   ],
   "source": [
    "x.nunique()"
   ]
  },
  {
   "cell_type": "markdown",
   "id": "cb064650",
   "metadata": {
    "id": "Jh0cHMgerskm",
    "papermill": {
     "duration": 0.019623,
     "end_time": "2022-07-21T13:16:01.800262",
     "exception": false,
     "start_time": "2022-07-21T13:16:01.780639",
     "status": "completed"
    },
    "tags": []
   },
   "source": [
    "# Transformations"
   ]
  },
  {
   "cell_type": "code",
   "execution_count": 37,
   "id": "c2d15f89",
   "metadata": {
    "execution": {
     "iopub.execute_input": "2022-07-21T13:16:01.841549Z",
     "iopub.status.busy": "2022-07-21T13:16:01.840482Z",
     "iopub.status.idle": "2022-07-21T13:16:01.909528Z",
     "shell.execute_reply": "2022-07-21T13:16:01.908046Z"
    },
    "id": "IKMbZcBssC3R",
    "papermill": {
     "duration": 0.092465,
     "end_time": "2022-07-21T13:16:01.912556",
     "exception": false,
     "start_time": "2022-07-21T13:16:01.820091",
     "status": "completed"
    },
    "tags": []
   },
   "outputs": [],
   "source": [
    "skew_list = x.skew()"
   ]
  },
  {
   "cell_type": "code",
   "execution_count": 38,
   "id": "e3519783",
   "metadata": {
    "execution": {
     "iopub.execute_input": "2022-07-21T13:16:01.953551Z",
     "iopub.status.busy": "2022-07-21T13:16:01.953005Z",
     "iopub.status.idle": "2022-07-21T13:16:01.961797Z",
     "shell.execute_reply": "2022-07-21T13:16:01.960376Z"
    },
    "id": "PA4F-g8_iZfH",
    "outputId": "5c055704-6c22-48b4-8078-55938d655ae9",
    "papermill": {
     "duration": 0.032595,
     "end_time": "2022-07-21T13:16:01.964903",
     "exception": false,
     "start_time": "2022-07-21T13:16:01.932308",
     "status": "completed"
    },
    "tags": []
   },
   "outputs": [
    {
     "data": {
      "text/plain": [
       "EXT_SOURCE_3                  -0.398628\n",
       "EXT_SOURCE_1                  -0.077242\n",
       "EXT_SOURCE_2                  -0.793076\n",
       "DAYS_EMPLOYED                 -1.954988\n",
       "DAYS_BIRTH                    -0.115918\n",
       "REGION_RATING_CLIENT_W_CITY    0.052475\n",
       "REGION_RATING_CLIENT           0.081122\n",
       "DAYS_LAST_PHONE_CHANGE        -0.711807\n",
       "DAYS_ID_PUBLISH                0.338329\n",
       "DEF_30_CNT_SOCIAL_CIRCLE       8.111785\n",
       "TRAINING                      -2.113585\n",
       "dtype: float64"
      ]
     },
     "execution_count": 38,
     "metadata": {},
     "output_type": "execute_result"
    }
   ],
   "source": [
    "skew_list"
   ]
  },
  {
   "cell_type": "markdown",
   "id": "ab645033",
   "metadata": {
    "id": "3dtuhMJZU_9U",
    "papermill": {
     "duration": 0.018586,
     "end_time": "2022-07-21T13:16:02.002634",
     "exception": false,
     "start_time": "2022-07-21T13:16:01.984048",
     "status": "completed"
    },
    "tags": []
   },
   "source": [
    "# Scaling"
   ]
  },
  {
   "cell_type": "code",
   "execution_count": 39,
   "id": "567a877f",
   "metadata": {
    "execution": {
     "iopub.execute_input": "2022-07-21T13:16:02.043309Z",
     "iopub.status.busy": "2022-07-21T13:16:02.042328Z",
     "iopub.status.idle": "2022-07-21T13:16:02.061488Z",
     "shell.execute_reply": "2022-07-21T13:16:02.060232Z"
    },
    "id": "r64A9fPdhWhg",
    "outputId": "58c87d06-e1ca-418d-d5e5-051560e9f769",
    "papermill": {
     "duration": 0.042474,
     "end_time": "2022-07-21T13:16:02.064352",
     "exception": false,
     "start_time": "2022-07-21T13:16:02.021878",
     "status": "completed"
    },
    "tags": []
   },
   "outputs": [
    {
     "data": {
      "text/plain": [
       "['EXT_SOURCE_3',\n",
       " 'EXT_SOURCE_1',\n",
       " 'EXT_SOURCE_2',\n",
       " 'DAYS_EMPLOYED',\n",
       " 'DAYS_BIRTH',\n",
       " 'REGION_RATING_CLIENT_W_CITY',\n",
       " 'REGION_RATING_CLIENT',\n",
       " 'DAYS_LAST_PHONE_CHANGE',\n",
       " 'DAYS_ID_PUBLISH',\n",
       " 'DEF_30_CNT_SOCIAL_CIRCLE']"
      ]
     },
     "execution_count": 39,
     "metadata": {},
     "output_type": "execute_result"
    }
   ],
   "source": [
    "cols_to_scale = x.select_dtypes(exclude = ['object', 'bool']).columns.values.tolist()\n",
    "cols_to_scale"
   ]
  },
  {
   "cell_type": "code",
   "execution_count": 40,
   "id": "38b4e6bc",
   "metadata": {
    "execution": {
     "iopub.execute_input": "2022-07-21T13:16:02.104576Z",
     "iopub.status.busy": "2022-07-21T13:16:02.104066Z",
     "iopub.status.idle": "2022-07-21T13:16:02.436258Z",
     "shell.execute_reply": "2022-07-21T13:16:02.434655Z"
    },
    "id": "2X5QCeHJgxlH",
    "papermill": {
     "duration": 0.355598,
     "end_time": "2022-07-21T13:16:02.439197",
     "exception": false,
     "start_time": "2022-07-21T13:16:02.083599",
     "status": "completed"
    },
    "tags": []
   },
   "outputs": [],
   "source": [
    "robust_scaler = RobustScaler().fit(x[cols_to_scale])\n",
    "standard_scaler = StandardScaler().fit(x[cols_to_scale])\n",
    "minmax_scaler = MinMaxScaler().fit(x[cols_to_scale])"
   ]
  },
  {
   "cell_type": "code",
   "execution_count": 41,
   "id": "d2534bc3",
   "metadata": {
    "execution": {
     "iopub.execute_input": "2022-07-21T13:16:02.481100Z",
     "iopub.status.busy": "2022-07-21T13:16:02.480194Z",
     "iopub.status.idle": "2022-07-21T13:16:02.559457Z",
     "shell.execute_reply": "2022-07-21T13:16:02.557660Z"
    },
    "id": "456dT_JLhHPb",
    "papermill": {
     "duration": 0.104847,
     "end_time": "2022-07-21T13:16:02.563028",
     "exception": false,
     "start_time": "2022-07-21T13:16:02.458181",
     "status": "completed"
    },
    "tags": []
   },
   "outputs": [],
   "source": [
    "x[cols_to_scale] = robust_scaler.transform(x[cols_to_scale])"
   ]
  },
  {
   "cell_type": "code",
   "execution_count": 42,
   "id": "678047a1",
   "metadata": {
    "execution": {
     "iopub.execute_input": "2022-07-21T13:16:02.603594Z",
     "iopub.status.busy": "2022-07-21T13:16:02.603022Z",
     "iopub.status.idle": "2022-07-21T13:16:02.630768Z",
     "shell.execute_reply": "2022-07-21T13:16:02.629317Z"
    },
    "id": "j-A9p071f7Oq",
    "outputId": "a7ef2fd6-f816-474a-d09f-acaeeeee57b5",
    "papermill": {
     "duration": 0.052097,
     "end_time": "2022-07-21T13:16:02.634109",
     "exception": false,
     "start_time": "2022-07-21T13:16:02.582012",
     "status": "completed"
    },
    "tags": []
   },
   "outputs": [
    {
     "data": {
      "text/html": [
       "<div>\n",
       "<style scoped>\n",
       "    .dataframe tbody tr th:only-of-type {\n",
       "        vertical-align: middle;\n",
       "    }\n",
       "\n",
       "    .dataframe tbody tr th {\n",
       "        vertical-align: top;\n",
       "    }\n",
       "\n",
       "    .dataframe thead th {\n",
       "        text-align: right;\n",
       "    }\n",
       "</style>\n",
       "<table border=\"1\" class=\"dataframe\">\n",
       "  <thead>\n",
       "    <tr style=\"text-align: right;\">\n",
       "      <th></th>\n",
       "      <th>EXT_SOURCE_3</th>\n",
       "      <th>EXT_SOURCE_1</th>\n",
       "      <th>EXT_SOURCE_2</th>\n",
       "      <th>DAYS_EMPLOYED</th>\n",
       "      <th>DAYS_BIRTH</th>\n",
       "      <th>REGION_RATING_CLIENT_W_CITY</th>\n",
       "      <th>REGION_RATING_CLIENT</th>\n",
       "      <th>DAYS_LAST_PHONE_CHANGE</th>\n",
       "      <th>DAYS_ID_PUBLISH</th>\n",
       "      <th>DEF_30_CNT_SOCIAL_CIRCLE</th>\n",
       "      <th>TRAINING</th>\n",
       "    </tr>\n",
       "  </thead>\n",
       "  <tbody>\n",
       "    <tr>\n",
       "      <th>0</th>\n",
       "      <td>-1.327464</td>\n",
       "      <td>-1.252419</td>\n",
       "      <td>-1.126607</td>\n",
       "      <td>0.423967</td>\n",
       "      <td>0.868018</td>\n",
       "      <td>0.0</td>\n",
       "      <td>0.0</td>\n",
       "      <td>-0.277948</td>\n",
       "      <td>0.435217</td>\n",
       "      <td>2.0</td>\n",
       "      <td>True</td>\n",
       "    </tr>\n",
       "    <tr>\n",
       "      <th>1</th>\n",
       "      <td>NaN</td>\n",
       "      <td>-0.576862</td>\n",
       "      <td>0.214188</td>\n",
       "      <td>0.196281</td>\n",
       "      <td>-0.139291</td>\n",
       "      <td>-1.0</td>\n",
       "      <td>-1.0</td>\n",
       "      <td>-0.043645</td>\n",
       "      <td>1.138408</td>\n",
       "      <td>0.0</td>\n",
       "      <td>True</td>\n",
       "    </tr>\n",
       "    <tr>\n",
       "      <th>2</th>\n",
       "      <td>0.660472</td>\n",
       "      <td>NaN</td>\n",
       "      <td>-0.033351</td>\n",
       "      <td>0.594215</td>\n",
       "      <td>-0.453868</td>\n",
       "      <td>0.0</td>\n",
       "      <td>0.0</td>\n",
       "      <td>-0.033691</td>\n",
       "      <td>0.277201</td>\n",
       "      <td>0.0</td>\n",
       "      <td>True</td>\n",
       "    </tr>\n",
       "    <tr>\n",
       "      <th>3</th>\n",
       "      <td>NaN</td>\n",
       "      <td>NaN</td>\n",
       "      <td>0.319407</td>\n",
       "      <td>-0.568595</td>\n",
       "      <td>-0.448214</td>\n",
       "      <td>0.0</td>\n",
       "      <td>0.0</td>\n",
       "      <td>0.117917</td>\n",
       "      <td>0.313341</td>\n",
       "      <td>0.0</td>\n",
       "      <td>True</td>\n",
       "    </tr>\n",
       "    <tr>\n",
       "      <th>4</th>\n",
       "      <td>NaN</td>\n",
       "      <td>NaN</td>\n",
       "      <td>-0.903489</td>\n",
       "      <td>-0.568182</td>\n",
       "      <td>-0.576058</td>\n",
       "      <td>0.0</td>\n",
       "      <td>0.0</td>\n",
       "      <td>-0.256508</td>\n",
       "      <td>-0.079200</td>\n",
       "      <td>0.0</td>\n",
       "      <td>True</td>\n",
       "    </tr>\n",
       "    <tr>\n",
       "      <th>...</th>\n",
       "      <td>...</td>\n",
       "      <td>...</td>\n",
       "      <td>...</td>\n",
       "      <td>...</td>\n",
       "      <td>...</td>\n",
       "      <td>...</td>\n",
       "      <td>...</td>\n",
       "      <td>...</td>\n",
       "      <td>...</td>\n",
       "      <td>...</td>\n",
       "      <td>...</td>\n",
       "    </tr>\n",
       "    <tr>\n",
       "      <th>48739</th>\n",
       "      <td>0.368976</td>\n",
       "      <td>NaN</td>\n",
       "      <td>0.312441</td>\n",
       "      <td>-1.448760</td>\n",
       "      <td>-0.581299</td>\n",
       "      <td>1.0</td>\n",
       "      <td>1.0</td>\n",
       "      <td>0.066616</td>\n",
       "      <td>-0.056517</td>\n",
       "      <td>0.0</td>\n",
       "      <td>False</td>\n",
       "    </tr>\n",
       "    <tr>\n",
       "      <th>48740</th>\n",
       "      <td>NaN</td>\n",
       "      <td>NaN</td>\n",
       "      <td>0.446860</td>\n",
       "      <td>0.212397</td>\n",
       "      <td>0.630120</td>\n",
       "      <td>0.0</td>\n",
       "      <td>0.0</td>\n",
       "      <td>0.590352</td>\n",
       "      <td>0.095732</td>\n",
       "      <td>0.0</td>\n",
       "      <td>False</td>\n",
       "    </tr>\n",
       "    <tr>\n",
       "      <th>48741</th>\n",
       "      <td>-0.841298</td>\n",
       "      <td>0.672947</td>\n",
       "      <td>0.253460</td>\n",
       "      <td>-0.567769</td>\n",
       "      <td>-0.023031</td>\n",
       "      <td>0.0</td>\n",
       "      <td>0.0</td>\n",
       "      <td>-0.051302</td>\n",
       "      <td>0.672049</td>\n",
       "      <td>0.0</td>\n",
       "      <td>False</td>\n",
       "    </tr>\n",
       "    <tr>\n",
       "      <th>48742</th>\n",
       "      <td>0.208749</td>\n",
       "      <td>-0.393868</td>\n",
       "      <td>-0.444627</td>\n",
       "      <td>-0.441322</td>\n",
       "      <td>0.246449</td>\n",
       "      <td>0.0</td>\n",
       "      <td>0.0</td>\n",
       "      <td>-1.176876</td>\n",
       "      <td>0.725875</td>\n",
       "      <td>0.0</td>\n",
       "      <td>False</td>\n",
       "    </tr>\n",
       "    <tr>\n",
       "      <th>48743</th>\n",
       "      <td>-0.880297</td>\n",
       "      <td>NaN</td>\n",
       "      <td>-0.404176</td>\n",
       "      <td>0.425620</td>\n",
       "      <td>0.247276</td>\n",
       "      <td>0.0</td>\n",
       "      <td>0.0</td>\n",
       "      <td>0.339969</td>\n",
       "      <td>-0.372165</td>\n",
       "      <td>0.0</td>\n",
       "      <td>False</td>\n",
       "    </tr>\n",
       "  </tbody>\n",
       "</table>\n",
       "<p>356255 rows × 11 columns</p>\n",
       "</div>"
      ],
      "text/plain": [
       "       EXT_SOURCE_3  EXT_SOURCE_1  EXT_SOURCE_2  DAYS_EMPLOYED  DAYS_BIRTH  \\\n",
       "0         -1.327464     -1.252419     -1.126607       0.423967    0.868018   \n",
       "1               NaN     -0.576862      0.214188       0.196281   -0.139291   \n",
       "2          0.660472           NaN     -0.033351       0.594215   -0.453868   \n",
       "3               NaN           NaN      0.319407      -0.568595   -0.448214   \n",
       "4               NaN           NaN     -0.903489      -0.568182   -0.576058   \n",
       "...             ...           ...           ...            ...         ...   \n",
       "48739      0.368976           NaN      0.312441      -1.448760   -0.581299   \n",
       "48740           NaN           NaN      0.446860       0.212397    0.630120   \n",
       "48741     -0.841298      0.672947      0.253460      -0.567769   -0.023031   \n",
       "48742      0.208749     -0.393868     -0.444627      -0.441322    0.246449   \n",
       "48743     -0.880297           NaN     -0.404176       0.425620    0.247276   \n",
       "\n",
       "       REGION_RATING_CLIENT_W_CITY  REGION_RATING_CLIENT  \\\n",
       "0                              0.0                   0.0   \n",
       "1                             -1.0                  -1.0   \n",
       "2                              0.0                   0.0   \n",
       "3                              0.0                   0.0   \n",
       "4                              0.0                   0.0   \n",
       "...                            ...                   ...   \n",
       "48739                          1.0                   1.0   \n",
       "48740                          0.0                   0.0   \n",
       "48741                          0.0                   0.0   \n",
       "48742                          0.0                   0.0   \n",
       "48743                          0.0                   0.0   \n",
       "\n",
       "       DAYS_LAST_PHONE_CHANGE  DAYS_ID_PUBLISH  DEF_30_CNT_SOCIAL_CIRCLE  \\\n",
       "0                   -0.277948         0.435217                       2.0   \n",
       "1                   -0.043645         1.138408                       0.0   \n",
       "2                   -0.033691         0.277201                       0.0   \n",
       "3                    0.117917         0.313341                       0.0   \n",
       "4                   -0.256508        -0.079200                       0.0   \n",
       "...                       ...              ...                       ...   \n",
       "48739                0.066616        -0.056517                       0.0   \n",
       "48740                0.590352         0.095732                       0.0   \n",
       "48741               -0.051302         0.672049                       0.0   \n",
       "48742               -1.176876         0.725875                       0.0   \n",
       "48743                0.339969        -0.372165                       0.0   \n",
       "\n",
       "       TRAINING  \n",
       "0          True  \n",
       "1          True  \n",
       "2          True  \n",
       "3          True  \n",
       "4          True  \n",
       "...         ...  \n",
       "48739     False  \n",
       "48740     False  \n",
       "48741     False  \n",
       "48742     False  \n",
       "48743     False  \n",
       "\n",
       "[356255 rows x 11 columns]"
      ]
     },
     "execution_count": 42,
     "metadata": {},
     "output_type": "execute_result"
    }
   ],
   "source": [
    "x"
   ]
  },
  {
   "cell_type": "markdown",
   "id": "918757b9",
   "metadata": {
    "id": "vP1wZ8ZLVAFN",
    "papermill": {
     "duration": 0.01993,
     "end_time": "2022-07-21T13:16:02.673680",
     "exception": false,
     "start_time": "2022-07-21T13:16:02.653750",
     "status": "completed"
    },
    "tags": []
   },
   "source": [
    "# Encoding"
   ]
  },
  {
   "cell_type": "code",
   "execution_count": 43,
   "id": "99d0dd4b",
   "metadata": {
    "execution": {
     "iopub.execute_input": "2022-07-21T13:16:02.716560Z",
     "iopub.status.busy": "2022-07-21T13:16:02.715556Z",
     "iopub.status.idle": "2022-07-21T13:16:02.759014Z",
     "shell.execute_reply": "2022-07-21T13:16:02.757514Z"
    },
    "id": "bnN54ey3ftBV",
    "papermill": {
     "duration": 0.068291,
     "end_time": "2022-07-21T13:16:02.762412",
     "exception": false,
     "start_time": "2022-07-21T13:16:02.694121",
     "status": "completed"
    },
    "tags": []
   },
   "outputs": [],
   "source": [
    "x = pd.get_dummies(x)"
   ]
  },
  {
   "cell_type": "markdown",
   "id": "a4c369ec",
   "metadata": {
    "id": "Zj0kylJnU_xF",
    "papermill": {
     "duration": 0.019696,
     "end_time": "2022-07-21T13:16:02.801882",
     "exception": false,
     "start_time": "2022-07-21T13:16:02.782186",
     "status": "completed"
    },
    "tags": []
   },
   "source": [
    "# Imputing Nulls"
   ]
  },
  {
   "cell_type": "code",
   "execution_count": 107,
   "id": "ff714366",
   "metadata": {
    "execution": {
     "iopub.execute_input": "2022-07-21T13:16:02.929558Z",
     "iopub.status.busy": "2022-07-21T13:16:02.928817Z",
     "iopub.status.idle": "2022-07-21T13:16:02.934078Z",
     "shell.execute_reply": "2022-07-21T13:16:02.933220Z"
    },
    "id": "7ullGr8duPvf",
    "papermill": {
     "duration": 0.028653,
     "end_time": "2022-07-21T13:16:02.936383",
     "exception": false,
     "start_time": "2022-07-21T13:16:02.907730",
     "status": "completed"
    },
    "tags": []
   },
   "outputs": [],
   "source": [
    "imputer = IterativeImputer()"
   ]
  },
  {
   "cell_type": "code",
   "execution_count": 46,
   "id": "7957e71b",
   "metadata": {
    "execution": {
     "iopub.execute_input": "2022-07-21T13:16:02.978771Z",
     "iopub.status.busy": "2022-07-21T13:16:02.978248Z",
     "iopub.status.idle": "2022-07-21T13:16:02.998153Z",
     "shell.execute_reply": "2022-07-21T13:16:02.996827Z"
    },
    "id": "G8jx5blIiW70",
    "outputId": "ff0fa7bf-06d1-4375-ab99-0f03f92c467e",
    "papermill": {
     "duration": 0.044517,
     "end_time": "2022-07-21T13:16:03.000613",
     "exception": false,
     "start_time": "2022-07-21T13:16:02.956096",
     "status": "completed"
    },
    "tags": []
   },
   "outputs": [
    {
     "data": {
      "text/plain": [
       "EXT_SOURCE_3                    69633\n",
       "EXT_SOURCE_1                   193910\n",
       "EXT_SOURCE_2                      668\n",
       "DAYS_EMPLOYED                   64648\n",
       "DAYS_BIRTH                          0\n",
       "REGION_RATING_CLIENT_W_CITY         0\n",
       "REGION_RATING_CLIENT                0\n",
       "DAYS_LAST_PHONE_CHANGE              1\n",
       "DAYS_ID_PUBLISH                     0\n",
       "DEF_30_CNT_SOCIAL_CIRCLE         1050\n",
       "TRAINING                            0\n",
       "dtype: int64"
      ]
     },
     "execution_count": 46,
     "metadata": {},
     "output_type": "execute_result"
    }
   ],
   "source": [
    "x.isna().sum()"
   ]
  },
  {
   "cell_type": "code",
   "execution_count": 47,
   "id": "6cab4db7",
   "metadata": {
    "execution": {
     "iopub.execute_input": "2022-07-21T13:16:03.043278Z",
     "iopub.status.busy": "2022-07-21T13:16:03.042518Z",
     "iopub.status.idle": "2022-07-21T13:16:19.479720Z",
     "shell.execute_reply": "2022-07-21T13:16:19.477853Z"
    },
    "id": "FTPbcBDUuXcP",
    "papermill": {
     "duration": 16.461786,
     "end_time": "2022-07-21T13:16:19.482878",
     "exception": false,
     "start_time": "2022-07-21T13:16:03.021092",
     "status": "completed"
    },
    "tags": []
   },
   "outputs": [],
   "source": [
    "x = pd.DataFrame(imputer.fit_transform(x), columns = x.columns)"
   ]
  },
  {
   "cell_type": "code",
   "execution_count": 48,
   "id": "422fcd3a",
   "metadata": {
    "execution": {
     "iopub.execute_input": "2022-07-21T13:16:19.533531Z",
     "iopub.status.busy": "2022-07-21T13:16:19.532724Z",
     "iopub.status.idle": "2022-07-21T13:16:19.557264Z",
     "shell.execute_reply": "2022-07-21T13:16:19.556103Z"
    },
    "id": "pw_mKEPuuj7_",
    "outputId": "b5214c55-c34d-4526-fba5-14d3f99335c1",
    "papermill": {
     "duration": 0.048174,
     "end_time": "2022-07-21T13:16:19.559714",
     "exception": false,
     "start_time": "2022-07-21T13:16:19.511540",
     "status": "completed"
    },
    "tags": []
   },
   "outputs": [
    {
     "data": {
      "text/html": [
       "<div>\n",
       "<style scoped>\n",
       "    .dataframe tbody tr th:only-of-type {\n",
       "        vertical-align: middle;\n",
       "    }\n",
       "\n",
       "    .dataframe tbody tr th {\n",
       "        vertical-align: top;\n",
       "    }\n",
       "\n",
       "    .dataframe thead th {\n",
       "        text-align: right;\n",
       "    }\n",
       "</style>\n",
       "<table border=\"1\" class=\"dataframe\">\n",
       "  <thead>\n",
       "    <tr style=\"text-align: right;\">\n",
       "      <th></th>\n",
       "      <th>EXT_SOURCE_3</th>\n",
       "      <th>EXT_SOURCE_1</th>\n",
       "      <th>EXT_SOURCE_2</th>\n",
       "      <th>DAYS_EMPLOYED</th>\n",
       "      <th>DAYS_BIRTH</th>\n",
       "      <th>REGION_RATING_CLIENT_W_CITY</th>\n",
       "      <th>REGION_RATING_CLIENT</th>\n",
       "      <th>DAYS_LAST_PHONE_CHANGE</th>\n",
       "      <th>DAYS_ID_PUBLISH</th>\n",
       "      <th>DEF_30_CNT_SOCIAL_CIRCLE</th>\n",
       "      <th>TRAINING</th>\n",
       "    </tr>\n",
       "  </thead>\n",
       "  <tbody>\n",
       "    <tr>\n",
       "      <th>0</th>\n",
       "      <td>-1.327464</td>\n",
       "      <td>-1.252419</td>\n",
       "      <td>-1.126607</td>\n",
       "      <td>0.423967</td>\n",
       "      <td>0.868018</td>\n",
       "      <td>0.0</td>\n",
       "      <td>0.0</td>\n",
       "      <td>-0.277948</td>\n",
       "      <td>0.435217</td>\n",
       "      <td>2.0</td>\n",
       "      <td>1.0</td>\n",
       "    </tr>\n",
       "    <tr>\n",
       "      <th>1</th>\n",
       "      <td>-0.402212</td>\n",
       "      <td>-0.576862</td>\n",
       "      <td>0.214188</td>\n",
       "      <td>0.196281</td>\n",
       "      <td>-0.139291</td>\n",
       "      <td>-1.0</td>\n",
       "      <td>-1.0</td>\n",
       "      <td>-0.043645</td>\n",
       "      <td>1.138408</td>\n",
       "      <td>0.0</td>\n",
       "      <td>1.0</td>\n",
       "    </tr>\n",
       "    <tr>\n",
       "      <th>2</th>\n",
       "      <td>0.660472</td>\n",
       "      <td>0.404809</td>\n",
       "      <td>-0.033351</td>\n",
       "      <td>0.594215</td>\n",
       "      <td>-0.453868</td>\n",
       "      <td>0.0</td>\n",
       "      <td>0.0</td>\n",
       "      <td>-0.033691</td>\n",
       "      <td>0.277201</td>\n",
       "      <td>0.0</td>\n",
       "      <td>1.0</td>\n",
       "    </tr>\n",
       "    <tr>\n",
       "      <th>3</th>\n",
       "      <td>0.005695</td>\n",
       "      <td>0.415333</td>\n",
       "      <td>0.319407</td>\n",
       "      <td>-0.568595</td>\n",
       "      <td>-0.448214</td>\n",
       "      <td>0.0</td>\n",
       "      <td>0.0</td>\n",
       "      <td>0.117917</td>\n",
       "      <td>0.313341</td>\n",
       "      <td>0.0</td>\n",
       "      <td>1.0</td>\n",
       "    </tr>\n",
       "    <tr>\n",
       "      <th>4</th>\n",
       "      <td>-0.020908</td>\n",
       "      <td>0.380321</td>\n",
       "      <td>-0.903489</td>\n",
       "      <td>-0.568182</td>\n",
       "      <td>-0.576058</td>\n",
       "      <td>0.0</td>\n",
       "      <td>0.0</td>\n",
       "      <td>-0.256508</td>\n",
       "      <td>-0.079200</td>\n",
       "      <td>0.0</td>\n",
       "      <td>1.0</td>\n",
       "    </tr>\n",
       "    <tr>\n",
       "      <th>...</th>\n",
       "      <td>...</td>\n",
       "      <td>...</td>\n",
       "      <td>...</td>\n",
       "      <td>...</td>\n",
       "      <td>...</td>\n",
       "      <td>...</td>\n",
       "      <td>...</td>\n",
       "      <td>...</td>\n",
       "      <td>...</td>\n",
       "      <td>...</td>\n",
       "      <td>...</td>\n",
       "    </tr>\n",
       "    <tr>\n",
       "      <th>356250</th>\n",
       "      <td>0.368976</td>\n",
       "      <td>0.437564</td>\n",
       "      <td>0.312441</td>\n",
       "      <td>-1.448760</td>\n",
       "      <td>-0.581299</td>\n",
       "      <td>1.0</td>\n",
       "      <td>1.0</td>\n",
       "      <td>0.066616</td>\n",
       "      <td>-0.056517</td>\n",
       "      <td>0.0</td>\n",
       "      <td>0.0</td>\n",
       "    </tr>\n",
       "    <tr>\n",
       "      <th>356251</th>\n",
       "      <td>-0.235873</td>\n",
       "      <td>-0.328470</td>\n",
       "      <td>0.446860</td>\n",
       "      <td>0.212397</td>\n",
       "      <td>0.630120</td>\n",
       "      <td>0.0</td>\n",
       "      <td>0.0</td>\n",
       "      <td>0.590352</td>\n",
       "      <td>0.095732</td>\n",
       "      <td>0.0</td>\n",
       "      <td>0.0</td>\n",
       "    </tr>\n",
       "    <tr>\n",
       "      <th>356252</th>\n",
       "      <td>-0.841298</td>\n",
       "      <td>0.672947</td>\n",
       "      <td>0.253460</td>\n",
       "      <td>-0.567769</td>\n",
       "      <td>-0.023031</td>\n",
       "      <td>0.0</td>\n",
       "      <td>0.0</td>\n",
       "      <td>-0.051302</td>\n",
       "      <td>0.672049</td>\n",
       "      <td>0.0</td>\n",
       "      <td>0.0</td>\n",
       "    </tr>\n",
       "    <tr>\n",
       "      <th>356253</th>\n",
       "      <td>0.208749</td>\n",
       "      <td>-0.393868</td>\n",
       "      <td>-0.444627</td>\n",
       "      <td>-0.441322</td>\n",
       "      <td>0.246449</td>\n",
       "      <td>0.0</td>\n",
       "      <td>0.0</td>\n",
       "      <td>-1.176876</td>\n",
       "      <td>0.725875</td>\n",
       "      <td>0.0</td>\n",
       "      <td>0.0</td>\n",
       "    </tr>\n",
       "    <tr>\n",
       "      <th>356254</th>\n",
       "      <td>-0.880297</td>\n",
       "      <td>-0.246718</td>\n",
       "      <td>-0.404176</td>\n",
       "      <td>0.425620</td>\n",
       "      <td>0.247276</td>\n",
       "      <td>0.0</td>\n",
       "      <td>0.0</td>\n",
       "      <td>0.339969</td>\n",
       "      <td>-0.372165</td>\n",
       "      <td>0.0</td>\n",
       "      <td>0.0</td>\n",
       "    </tr>\n",
       "  </tbody>\n",
       "</table>\n",
       "<p>356255 rows × 11 columns</p>\n",
       "</div>"
      ],
      "text/plain": [
       "        EXT_SOURCE_3  EXT_SOURCE_1  EXT_SOURCE_2  DAYS_EMPLOYED  DAYS_BIRTH  \\\n",
       "0          -1.327464     -1.252419     -1.126607       0.423967    0.868018   \n",
       "1          -0.402212     -0.576862      0.214188       0.196281   -0.139291   \n",
       "2           0.660472      0.404809     -0.033351       0.594215   -0.453868   \n",
       "3           0.005695      0.415333      0.319407      -0.568595   -0.448214   \n",
       "4          -0.020908      0.380321     -0.903489      -0.568182   -0.576058   \n",
       "...              ...           ...           ...            ...         ...   \n",
       "356250      0.368976      0.437564      0.312441      -1.448760   -0.581299   \n",
       "356251     -0.235873     -0.328470      0.446860       0.212397    0.630120   \n",
       "356252     -0.841298      0.672947      0.253460      -0.567769   -0.023031   \n",
       "356253      0.208749     -0.393868     -0.444627      -0.441322    0.246449   \n",
       "356254     -0.880297     -0.246718     -0.404176       0.425620    0.247276   \n",
       "\n",
       "        REGION_RATING_CLIENT_W_CITY  REGION_RATING_CLIENT  \\\n",
       "0                               0.0                   0.0   \n",
       "1                              -1.0                  -1.0   \n",
       "2                               0.0                   0.0   \n",
       "3                               0.0                   0.0   \n",
       "4                               0.0                   0.0   \n",
       "...                             ...                   ...   \n",
       "356250                          1.0                   1.0   \n",
       "356251                          0.0                   0.0   \n",
       "356252                          0.0                   0.0   \n",
       "356253                          0.0                   0.0   \n",
       "356254                          0.0                   0.0   \n",
       "\n",
       "        DAYS_LAST_PHONE_CHANGE  DAYS_ID_PUBLISH  DEF_30_CNT_SOCIAL_CIRCLE  \\\n",
       "0                    -0.277948         0.435217                       2.0   \n",
       "1                    -0.043645         1.138408                       0.0   \n",
       "2                    -0.033691         0.277201                       0.0   \n",
       "3                     0.117917         0.313341                       0.0   \n",
       "4                    -0.256508        -0.079200                       0.0   \n",
       "...                        ...              ...                       ...   \n",
       "356250                0.066616        -0.056517                       0.0   \n",
       "356251                0.590352         0.095732                       0.0   \n",
       "356252               -0.051302         0.672049                       0.0   \n",
       "356253               -1.176876         0.725875                       0.0   \n",
       "356254                0.339969        -0.372165                       0.0   \n",
       "\n",
       "        TRAINING  \n",
       "0            1.0  \n",
       "1            1.0  \n",
       "2            1.0  \n",
       "3            1.0  \n",
       "4            1.0  \n",
       "...          ...  \n",
       "356250       0.0  \n",
       "356251       0.0  \n",
       "356252       0.0  \n",
       "356253       0.0  \n",
       "356254       0.0  \n",
       "\n",
       "[356255 rows x 11 columns]"
      ]
     },
     "execution_count": 48,
     "metadata": {},
     "output_type": "execute_result"
    }
   ],
   "source": [
    "x"
   ]
  },
  {
   "cell_type": "code",
   "execution_count": 49,
   "id": "eb413757",
   "metadata": {
    "execution": {
     "iopub.execute_input": "2022-07-21T13:16:19.601525Z",
     "iopub.status.busy": "2022-07-21T13:16:19.600742Z",
     "iopub.status.idle": "2022-07-21T13:16:19.619563Z",
     "shell.execute_reply": "2022-07-21T13:16:19.618319Z"
    },
    "id": "z3uHtWmupvKT",
    "outputId": "5ad1ceb7-ac4d-4ee5-a04b-3feb20738d3c",
    "papermill": {
     "duration": 0.043037,
     "end_time": "2022-07-21T13:16:19.622376",
     "exception": false,
     "start_time": "2022-07-21T13:16:19.579339",
     "status": "completed"
    },
    "tags": []
   },
   "outputs": [
    {
     "data": {
      "text/plain": [
       "0"
      ]
     },
     "execution_count": 49,
     "metadata": {},
     "output_type": "execute_result"
    }
   ],
   "source": [
    "x.isna().sum().sum()"
   ]
  },
  {
   "cell_type": "markdown",
   "id": "408e0aec",
   "metadata": {
    "id": "8hwgp4S7u-Z9",
    "papermill": {
     "duration": 0.019297,
     "end_time": "2022-07-21T13:16:19.662017",
     "exception": false,
     "start_time": "2022-07-21T13:16:19.642720",
     "status": "completed"
    },
    "tags": []
   },
   "source": [
    "# Unstacking the train and test sets"
   ]
  },
  {
   "cell_type": "code",
   "execution_count": 50,
   "id": "ef4d6628",
   "metadata": {
    "execution": {
     "iopub.execute_input": "2022-07-21T13:16:19.703834Z",
     "iopub.status.busy": "2022-07-21T13:16:19.702895Z",
     "iopub.status.idle": "2022-07-21T13:16:19.723283Z",
     "shell.execute_reply": "2022-07-21T13:16:19.721866Z"
    },
    "id": "SElgEw8lu-HV",
    "papermill": {
     "duration": 0.044713,
     "end_time": "2022-07-21T13:16:19.726375",
     "exception": false,
     "start_time": "2022-07-21T13:16:19.681662",
     "status": "completed"
    },
    "tags": []
   },
   "outputs": [],
   "source": [
    "train = x[x['TRAINING'] == True]"
   ]
  },
  {
   "cell_type": "code",
   "execution_count": 51,
   "id": "0b1291e1",
   "metadata": {
    "execution": {
     "iopub.execute_input": "2022-07-21T13:16:19.768620Z",
     "iopub.status.busy": "2022-07-21T13:16:19.767561Z",
     "iopub.status.idle": "2022-07-21T13:16:19.777276Z",
     "shell.execute_reply": "2022-07-21T13:16:19.775927Z"
    },
    "id": "o_IAKEQsvOZv",
    "papermill": {
     "duration": 0.03407,
     "end_time": "2022-07-21T13:16:19.780302",
     "exception": false,
     "start_time": "2022-07-21T13:16:19.746232",
     "status": "completed"
    },
    "tags": []
   },
   "outputs": [],
   "source": [
    "test = x[x['TRAINING'] == False]"
   ]
  },
  {
   "cell_type": "code",
   "execution_count": 52,
   "id": "2f900d07",
   "metadata": {
    "execution": {
     "iopub.execute_input": "2022-07-21T13:16:19.825266Z",
     "iopub.status.busy": "2022-07-21T13:16:19.824496Z",
     "iopub.status.idle": "2022-07-21T13:16:19.841850Z",
     "shell.execute_reply": "2022-07-21T13:16:19.840752Z"
    },
    "id": "TVyAcba11J3H",
    "outputId": "4e9f1908-fd7d-4b24-de97-e256281daf28",
    "papermill": {
     "duration": 0.043512,
     "end_time": "2022-07-21T13:16:19.844594",
     "exception": false,
     "start_time": "2022-07-21T13:16:19.801082",
     "status": "completed"
    },
    "tags": []
   },
   "outputs": [],
   "source": [
    "train.drop(columns = 'TRAINING', inplace=True)\n",
    "test.drop(columns = 'TRAINING', inplace=True)"
   ]
  },
  {
   "attachments": {},
   "cell_type": "markdown",
   "id": "4287f30b",
   "metadata": {
    "id": "40_73lmIiEh9",
    "papermill": {
     "duration": 0.021327,
     "end_time": "2022-07-21T13:16:19.887469",
     "exception": false,
     "start_time": "2022-07-21T13:16:19.866142",
     "status": "completed"
    },
    "tags": []
   },
   "source": [
    "# SMOTE\n",
    "Karena targetnya sangat tidak seimbang, saya menggunakan SMOTE untuk membuat lebih banyak titik data secara sintetis untuk dilatih oleh model."
   ]
  },
  {
   "cell_type": "code",
   "execution_count": 53,
   "id": "6dc6fe1a",
   "metadata": {
    "execution": {
     "iopub.execute_input": "2022-07-21T13:16:19.932740Z",
     "iopub.status.busy": "2022-07-21T13:16:19.932270Z",
     "iopub.status.idle": "2022-07-21T13:16:19.937583Z",
     "shell.execute_reply": "2022-07-21T13:16:19.936229Z"
    },
    "id": "xt5QO8n0tpac",
    "papermill": {
     "duration": 0.03018,
     "end_time": "2022-07-21T13:16:19.939813",
     "exception": false,
     "start_time": "2022-07-21T13:16:19.909633",
     "status": "completed"
    },
    "tags": []
   },
   "outputs": [],
   "source": [
    "smote = SMOTE()"
   ]
  },
  {
   "cell_type": "code",
   "execution_count": 54,
   "id": "e2d57c8a",
   "metadata": {
    "execution": {
     "iopub.execute_input": "2022-07-21T13:16:19.982499Z",
     "iopub.status.busy": "2022-07-21T13:16:19.982006Z",
     "iopub.status.idle": "2022-07-21T13:16:22.667900Z",
     "shell.execute_reply": "2022-07-21T13:16:22.666496Z"
    },
    "id": "FZET9fnavWNW",
    "papermill": {
     "duration": 2.711139,
     "end_time": "2022-07-21T13:16:22.671134",
     "exception": false,
     "start_time": "2022-07-21T13:16:19.959995",
     "status": "completed"
    },
    "tags": []
   },
   "outputs": [],
   "source": [
    "x_smote, y_smote = smote.fit_resample(train, y)"
   ]
  },
  {
   "cell_type": "markdown",
   "id": "6bd31a59",
   "metadata": {
    "id": "BaKowKDvXAHE",
    "papermill": {
     "duration": 0.019605,
     "end_time": "2022-07-21T13:16:22.710894",
     "exception": false,
     "start_time": "2022-07-21T13:16:22.691289",
     "status": "completed"
    },
    "tags": []
   },
   "source": [
    "# Training Data"
   ]
  },
  {
   "cell_type": "code",
   "execution_count": 55,
   "id": "4e244445",
   "metadata": {
    "execution": {
     "iopub.execute_input": "2022-07-21T13:16:22.754138Z",
     "iopub.status.busy": "2022-07-21T13:16:22.753192Z",
     "iopub.status.idle": "2022-07-21T13:16:22.965794Z",
     "shell.execute_reply": "2022-07-21T13:16:22.964590Z"
    },
    "id": "Kn9vvJZwvgmn",
    "papermill": {
     "duration": 0.237293,
     "end_time": "2022-07-21T13:16:22.968856",
     "exception": false,
     "start_time": "2022-07-21T13:16:22.731563",
     "status": "completed"
    },
    "tags": []
   },
   "outputs": [],
   "source": [
    "xtrain, xtest, ytrain, ytest = train_test_split(x_smote, y_smote, test_size = .3, random_state = 7)"
   ]
  },
  {
   "cell_type": "markdown",
   "id": "6dab0277",
   "metadata": {
    "id": "i_-nAlgivxab",
    "papermill": {
     "duration": 0.020064,
     "end_time": "2022-07-21T13:16:23.010233",
     "exception": false,
     "start_time": "2022-07-21T13:16:22.990169",
     "status": "completed"
    },
    "tags": []
   },
   "source": [
    "# KNN Classifier"
   ]
  },
  {
   "cell_type": "code",
   "execution_count": 56,
   "id": "baebc703",
   "metadata": {
    "execution": {
     "iopub.execute_input": "2022-07-21T13:16:23.052660Z",
     "iopub.status.busy": "2022-07-21T13:16:23.052174Z",
     "iopub.status.idle": "2022-07-21T13:16:24.352134Z",
     "shell.execute_reply": "2022-07-21T13:16:24.350805Z"
    },
    "id": "nHJ8n9HZvzuU",
    "papermill": {
     "duration": 1.324511,
     "end_time": "2022-07-21T13:16:24.355038",
     "exception": false,
     "start_time": "2022-07-21T13:16:23.030527",
     "status": "completed"
    },
    "tags": []
   },
   "outputs": [],
   "source": [
    "n = 7\n",
    "knn = KNeighborsClassifier(n_neighbors = n).fit(xtrain, ytrain)"
   ]
  },
  {
   "cell_type": "code",
   "execution_count": 57,
   "id": "47afcd85",
   "metadata": {
    "execution": {
     "iopub.execute_input": "2022-07-21T13:16:24.398745Z",
     "iopub.status.busy": "2022-07-21T13:16:24.397869Z",
     "iopub.status.idle": "2022-07-21T13:18:15.609121Z",
     "shell.execute_reply": "2022-07-21T13:18:15.607605Z"
    },
    "id": "h3wvmuwtwzdc",
    "papermill": {
     "duration": 111.236735,
     "end_time": "2022-07-21T13:18:15.612542",
     "exception": false,
     "start_time": "2022-07-21T13:16:24.375807",
     "status": "completed"
    },
    "tags": []
   },
   "outputs": [],
   "source": [
    "knn_predict = knn.predict(xtest)"
   ]
  },
  {
   "cell_type": "code",
   "execution_count": 58,
   "id": "abd2b050",
   "metadata": {
    "execution": {
     "iopub.execute_input": "2022-07-21T13:18:15.656677Z",
     "iopub.status.busy": "2022-07-21T13:18:15.655334Z",
     "iopub.status.idle": "2022-07-21T13:20:04.584772Z",
     "shell.execute_reply": "2022-07-21T13:20:04.583500Z"
    },
    "id": "SfVpDZIiwG00",
    "outputId": "df4d3ba1-a8f9-4dff-cfa5-e6f9fdc938d5",
    "papermill": {
     "duration": 108.974507,
     "end_time": "2022-07-21T13:20:04.608126",
     "exception": false,
     "start_time": "2022-07-21T13:18:15.633619",
     "status": "completed"
    },
    "tags": []
   },
   "outputs": [
    {
     "data": {
      "text/plain": [
       "0.8357781289059736"
      ]
     },
     "execution_count": 58,
     "metadata": {},
     "output_type": "execute_result"
    }
   ],
   "source": [
    "knn_score = knn.score(xtest, ytest)\n",
    "knn_score"
   ]
  },
  {
   "cell_type": "code",
   "execution_count": 59,
   "id": "c7a59124",
   "metadata": {
    "execution": {
     "iopub.execute_input": "2022-07-21T13:20:04.649098Z",
     "iopub.status.busy": "2022-07-21T13:20:04.648649Z",
     "iopub.status.idle": "2022-07-21T13:20:04.826450Z",
     "shell.execute_reply": "2022-07-21T13:20:04.825294Z"
    },
    "id": "ZcczwjIOwsw0",
    "papermill": {
     "duration": 0.201701,
     "end_time": "2022-07-21T13:20:04.829296",
     "exception": false,
     "start_time": "2022-07-21T13:20:04.627595",
     "status": "completed"
    },
    "tags": []
   },
   "outputs": [],
   "source": [
    "knn_recall = recall_score(ytest, knn_predict)\n",
    "knn_precision = precision_score(ytest, knn_predict)"
   ]
  },
  {
   "cell_type": "code",
   "execution_count": 60,
   "id": "e3366701",
   "metadata": {
    "execution": {
     "iopub.execute_input": "2022-07-21T13:20:04.872038Z",
     "iopub.status.busy": "2022-07-21T13:20:04.871517Z",
     "iopub.status.idle": "2022-07-21T13:20:04.879853Z",
     "shell.execute_reply": "2022-07-21T13:20:04.878570Z"
    },
    "id": "3HZAyNfkxUDF",
    "outputId": "9fd09142-6802-4090-c0a6-6b703c3ac401",
    "papermill": {
     "duration": 0.0328,
     "end_time": "2022-07-21T13:20:04.882106",
     "exception": false,
     "start_time": "2022-07-21T13:20:04.849306",
     "status": "completed"
    },
    "tags": []
   },
   "outputs": [
    {
     "data": {
      "text/plain": [
       "(0.8357781289059736, 0.9887770123064241, 0.7573491606757891)"
      ]
     },
     "execution_count": 60,
     "metadata": {},
     "output_type": "execute_result"
    }
   ],
   "source": [
    "knn_score, knn_recall, knn_precision"
   ]
  },
  {
   "cell_type": "code",
   "execution_count": 61,
   "id": "6a8ddcde",
   "metadata": {
    "execution": {
     "iopub.execute_input": "2022-07-21T13:20:04.927820Z",
     "iopub.status.busy": "2022-07-21T13:20:04.926981Z",
     "iopub.status.idle": "2022-07-21T13:21:47.953190Z",
     "shell.execute_reply": "2022-07-21T13:21:47.951738Z"
    },
    "id": "cwgyh-pK4QMG",
    "papermill": {
     "duration": 103.052917,
     "end_time": "2022-07-21T13:21:47.956488",
     "exception": false,
     "start_time": "2022-07-21T13:20:04.903571",
     "status": "completed"
    },
    "tags": []
   },
   "outputs": [],
   "source": [
    "knn_rocauc = roc_auc_score(ytest, knn.predict_proba(xtest)[:,1])"
   ]
  },
  {
   "cell_type": "code",
   "execution_count": 62,
   "id": "3c6a586e",
   "metadata": {
    "execution": {
     "iopub.execute_input": "2022-07-21T13:21:47.999493Z",
     "iopub.status.busy": "2022-07-21T13:21:47.998645Z",
     "iopub.status.idle": "2022-07-21T13:21:48.004754Z",
     "shell.execute_reply": "2022-07-21T13:21:48.003860Z"
    },
    "id": "tekSWp3A5Nad",
    "outputId": "3a9ffbdd-d6df-4c34-8252-a1fa455a95c5",
    "papermill": {
     "duration": 0.029854,
     "end_time": "2022-07-21T13:21:48.006919",
     "exception": false,
     "start_time": "2022-07-21T13:21:47.977065",
     "status": "completed"
    },
    "tags": []
   },
   "outputs": [
    {
     "data": {
      "text/plain": [
       "0.9427625217464985"
      ]
     },
     "execution_count": 62,
     "metadata": {},
     "output_type": "execute_result"
    }
   ],
   "source": [
    "knn_rocauc"
   ]
  },
  {
   "attachments": {},
   "cell_type": "markdown",
   "id": "18e4f62f",
   "metadata": {},
   "source": [
    "# Random Forest"
   ]
  },
  {
   "cell_type": "code",
   "execution_count": 63,
   "id": "7e78eca1",
   "metadata": {},
   "outputs": [],
   "source": [
    "from sklearn.ensemble import RandomForestClassifier\n",
    "rf = RandomForestClassifier().fit(xtrain, ytrain)"
   ]
  },
  {
   "cell_type": "code",
   "execution_count": 64,
   "id": "dba8f331",
   "metadata": {},
   "outputs": [],
   "source": [
    "rf_predict = rf.predict(xtest)"
   ]
  },
  {
   "cell_type": "code",
   "execution_count": 65,
   "id": "2e33db34",
   "metadata": {},
   "outputs": [],
   "source": [
    "rf_score = rf.score(xtest, ytest)\n",
    "rf_recall = recall_score(ytest, rf_predict)\n",
    "rf_precision = precision_score(ytest, rf_predict)"
   ]
  },
  {
   "cell_type": "code",
   "execution_count": 66,
   "id": "45b55394",
   "metadata": {},
   "outputs": [
    {
     "data": {
      "text/plain": [
       "(0.8934273518383133, 0.9155626214449744, 0.8769782630765587)"
      ]
     },
     "execution_count": 66,
     "metadata": {},
     "output_type": "execute_result"
    }
   ],
   "source": [
    "rf_score, rf_recall, rf_precision"
   ]
  },
  {
   "cell_type": "code",
   "execution_count": 67,
   "id": "2b390c00",
   "metadata": {},
   "outputs": [],
   "source": [
    "rf_rocauc = roc_auc_score(ytest, rf.predict_proba(xtest)[:,1])"
   ]
  },
  {
   "cell_type": "code",
   "execution_count": 68,
   "id": "2dae9fdd",
   "metadata": {},
   "outputs": [
    {
     "data": {
      "text/plain": [
       "0.9606771593738282"
      ]
     },
     "execution_count": 68,
     "metadata": {},
     "output_type": "execute_result"
    }
   ],
   "source": [
    "rf_rocauc"
   ]
  },
  {
   "cell_type": "markdown",
   "id": "ce514331",
   "metadata": {
    "id": "ly05RtOBxW8U",
    "papermill": {
     "duration": 0.020099,
     "end_time": "2022-07-21T13:21:48.047376",
     "exception": false,
     "start_time": "2022-07-21T13:21:48.027277",
     "status": "completed"
    },
    "tags": []
   },
   "source": [
    "# Logistic Regression"
   ]
  },
  {
   "cell_type": "code",
   "execution_count": 69,
   "id": "8efcd5b3",
   "metadata": {
    "execution": {
     "iopub.execute_input": "2022-07-21T13:21:48.089259Z",
     "iopub.status.busy": "2022-07-21T13:21:48.088444Z",
     "iopub.status.idle": "2022-07-21T13:21:49.099794Z",
     "shell.execute_reply": "2022-07-21T13:21:49.098301Z"
    },
    "id": "ggOR7AaQxYvQ",
    "papermill": {
     "duration": 1.036955,
     "end_time": "2022-07-21T13:21:49.103995",
     "exception": false,
     "start_time": "2022-07-21T13:21:48.067040",
     "status": "completed"
    },
    "tags": []
   },
   "outputs": [],
   "source": [
    "log = LogisticRegression().fit(xtrain, ytrain)"
   ]
  },
  {
   "cell_type": "code",
   "execution_count": 70,
   "id": "3f248d96",
   "metadata": {
    "execution": {
     "iopub.execute_input": "2022-07-21T13:21:49.194574Z",
     "iopub.status.busy": "2022-07-21T13:21:49.193788Z",
     "iopub.status.idle": "2022-07-21T13:21:49.211493Z",
     "shell.execute_reply": "2022-07-21T13:21:49.209770Z"
    },
    "id": "07jDKpkvxdDG",
    "papermill": {
     "duration": 0.069781,
     "end_time": "2022-07-21T13:21:49.216949",
     "exception": false,
     "start_time": "2022-07-21T13:21:49.147168",
     "status": "completed"
    },
    "tags": []
   },
   "outputs": [],
   "source": [
    "log_predict = log.predict(xtest)"
   ]
  },
  {
   "cell_type": "code",
   "execution_count": 71,
   "id": "08050da0",
   "metadata": {
    "execution": {
     "iopub.execute_input": "2022-07-21T13:21:49.312276Z",
     "iopub.status.busy": "2022-07-21T13:21:49.311576Z",
     "iopub.status.idle": "2022-07-21T13:21:49.597957Z",
     "shell.execute_reply": "2022-07-21T13:21:49.596465Z"
    },
    "id": "FIw2qpBcxiIO",
    "papermill": {
     "duration": 0.33728,
     "end_time": "2022-07-21T13:21:49.601044",
     "exception": false,
     "start_time": "2022-07-21T13:21:49.263764",
     "status": "completed"
    },
    "tags": []
   },
   "outputs": [],
   "source": [
    "log_score = log.score(xtest, ytest)\n",
    "log_recall = recall_score(ytest, log_predict)\n",
    "log_precision = precision_score(ytest, log_predict)"
   ]
  },
  {
   "cell_type": "code",
   "execution_count": 72,
   "id": "24a60b87",
   "metadata": {
    "execution": {
     "iopub.execute_input": "2022-07-21T13:21:49.643463Z",
     "iopub.status.busy": "2022-07-21T13:21:49.642979Z",
     "iopub.status.idle": "2022-07-21T13:21:49.650337Z",
     "shell.execute_reply": "2022-07-21T13:21:49.649123Z"
    },
    "id": "WITb1OevxtuZ",
    "outputId": "bbe049d1-9013-4906-ba57-70163e2c572a",
    "papermill": {
     "duration": 0.031393,
     "end_time": "2022-07-21T13:21:49.652666",
     "exception": false,
     "start_time": "2022-07-21T13:21:49.621273",
     "status": "completed"
    },
    "tags": []
   },
   "outputs": [
    {
     "data": {
      "text/plain": [
       "(0.6716034242860175, 0.6655125713949244, 0.6742951234354305)"
      ]
     },
     "execution_count": 72,
     "metadata": {},
     "output_type": "execute_result"
    }
   ],
   "source": [
    "log_score, log_recall, log_precision"
   ]
  },
  {
   "cell_type": "code",
   "execution_count": 73,
   "id": "3d67422d",
   "metadata": {
    "execution": {
     "iopub.execute_input": "2022-07-21T13:21:49.697267Z",
     "iopub.status.busy": "2022-07-21T13:21:49.696385Z",
     "iopub.status.idle": "2022-07-21T13:21:49.835030Z",
     "shell.execute_reply": "2022-07-21T13:21:49.833631Z"
    },
    "id": "Ubs-GhHW43E5",
    "papermill": {
     "duration": 0.164988,
     "end_time": "2022-07-21T13:21:49.838055",
     "exception": false,
     "start_time": "2022-07-21T13:21:49.673067",
     "status": "completed"
    },
    "tags": []
   },
   "outputs": [],
   "source": [
    "log_rocauc = roc_auc_score(ytest, log.predict_proba(xtest)[:,1])"
   ]
  },
  {
   "cell_type": "code",
   "execution_count": 74,
   "id": "9a115022",
   "metadata": {
    "execution": {
     "iopub.execute_input": "2022-07-21T13:21:49.881678Z",
     "iopub.status.busy": "2022-07-21T13:21:49.880443Z",
     "iopub.status.idle": "2022-07-21T13:21:49.887535Z",
     "shell.execute_reply": "2022-07-21T13:21:49.886335Z"
    },
    "id": "83JdFJIb46hS",
    "outputId": "08d8273e-665e-45cf-ed00-119311d62a50",
    "papermill": {
     "duration": 0.031796,
     "end_time": "2022-07-21T13:21:49.890180",
     "exception": false,
     "start_time": "2022-07-21T13:21:49.858384",
     "status": "completed"
    },
    "tags": []
   },
   "outputs": [
    {
     "data": {
      "text/plain": [
       "0.7331453578885081"
      ]
     },
     "execution_count": 74,
     "metadata": {},
     "output_type": "execute_result"
    }
   ],
   "source": [
    "log_rocauc"
   ]
  },
  {
   "cell_type": "markdown",
   "id": "55ec73d3",
   "metadata": {
    "id": "aHfRWKpfx-_r",
    "papermill": {
     "duration": 0.020522,
     "end_time": "2022-07-21T13:21:49.932066",
     "exception": false,
     "start_time": "2022-07-21T13:21:49.911544",
     "status": "completed"
    },
    "tags": []
   },
   "source": [
    "# LGBM Classifier"
   ]
  },
  {
   "cell_type": "code",
   "execution_count": 75,
   "id": "49db3c2d",
   "metadata": {
    "execution": {
     "iopub.execute_input": "2022-07-21T13:21:49.976357Z",
     "iopub.status.busy": "2022-07-21T13:21:49.975042Z",
     "iopub.status.idle": "2022-07-21T13:21:52.086059Z",
     "shell.execute_reply": "2022-07-21T13:21:52.085196Z"
    },
    "id": "QrzhqTlDx-uH",
    "outputId": "7f5d9ebb-ac34-4d2c-cb42-9fc533c37af8",
    "papermill": {
     "duration": 2.135686,
     "end_time": "2022-07-21T13:21:52.088683",
     "exception": false,
     "start_time": "2022-07-21T13:21:49.952997",
     "status": "completed"
    },
    "tags": []
   },
   "outputs": [
    {
     "data": {
      "text/html": [
       "<style>#sk-container-id-1 {color: black;background-color: white;}#sk-container-id-1 pre{padding: 0;}#sk-container-id-1 div.sk-toggleable {background-color: white;}#sk-container-id-1 label.sk-toggleable__label {cursor: pointer;display: block;width: 100%;margin-bottom: 0;padding: 0.3em;box-sizing: border-box;text-align: center;}#sk-container-id-1 label.sk-toggleable__label-arrow:before {content: \"▸\";float: left;margin-right: 0.25em;color: #696969;}#sk-container-id-1 label.sk-toggleable__label-arrow:hover:before {color: black;}#sk-container-id-1 div.sk-estimator:hover label.sk-toggleable__label-arrow:before {color: black;}#sk-container-id-1 div.sk-toggleable__content {max-height: 0;max-width: 0;overflow: hidden;text-align: left;background-color: #f0f8ff;}#sk-container-id-1 div.sk-toggleable__content pre {margin: 0.2em;color: black;border-radius: 0.25em;background-color: #f0f8ff;}#sk-container-id-1 input.sk-toggleable__control:checked~div.sk-toggleable__content {max-height: 200px;max-width: 100%;overflow: auto;}#sk-container-id-1 input.sk-toggleable__control:checked~label.sk-toggleable__label-arrow:before {content: \"▾\";}#sk-container-id-1 div.sk-estimator input.sk-toggleable__control:checked~label.sk-toggleable__label {background-color: #d4ebff;}#sk-container-id-1 div.sk-label input.sk-toggleable__control:checked~label.sk-toggleable__label {background-color: #d4ebff;}#sk-container-id-1 input.sk-hidden--visually {border: 0;clip: rect(1px 1px 1px 1px);clip: rect(1px, 1px, 1px, 1px);height: 1px;margin: -1px;overflow: hidden;padding: 0;position: absolute;width: 1px;}#sk-container-id-1 div.sk-estimator {font-family: monospace;background-color: #f0f8ff;border: 1px dotted black;border-radius: 0.25em;box-sizing: border-box;margin-bottom: 0.5em;}#sk-container-id-1 div.sk-estimator:hover {background-color: #d4ebff;}#sk-container-id-1 div.sk-parallel-item::after {content: \"\";width: 100%;border-bottom: 1px solid gray;flex-grow: 1;}#sk-container-id-1 div.sk-label:hover label.sk-toggleable__label {background-color: #d4ebff;}#sk-container-id-1 div.sk-serial::before {content: \"\";position: absolute;border-left: 1px solid gray;box-sizing: border-box;top: 0;bottom: 0;left: 50%;z-index: 0;}#sk-container-id-1 div.sk-serial {display: flex;flex-direction: column;align-items: center;background-color: white;padding-right: 0.2em;padding-left: 0.2em;position: relative;}#sk-container-id-1 div.sk-item {position: relative;z-index: 1;}#sk-container-id-1 div.sk-parallel {display: flex;align-items: stretch;justify-content: center;background-color: white;position: relative;}#sk-container-id-1 div.sk-item::before, #sk-container-id-1 div.sk-parallel-item::before {content: \"\";position: absolute;border-left: 1px solid gray;box-sizing: border-box;top: 0;bottom: 0;left: 50%;z-index: -1;}#sk-container-id-1 div.sk-parallel-item {display: flex;flex-direction: column;z-index: 1;position: relative;background-color: white;}#sk-container-id-1 div.sk-parallel-item:first-child::after {align-self: flex-end;width: 50%;}#sk-container-id-1 div.sk-parallel-item:last-child::after {align-self: flex-start;width: 50%;}#sk-container-id-1 div.sk-parallel-item:only-child::after {width: 0;}#sk-container-id-1 div.sk-dashed-wrapped {border: 1px dashed gray;margin: 0 0.4em 0.5em 0.4em;box-sizing: border-box;padding-bottom: 0.4em;background-color: white;}#sk-container-id-1 div.sk-label label {font-family: monospace;font-weight: bold;display: inline-block;line-height: 1.2em;}#sk-container-id-1 div.sk-label-container {text-align: center;}#sk-container-id-1 div.sk-container {/* jupyter's `normalize.less` sets `[hidden] { display: none; }` but bootstrap.min.css set `[hidden] { display: none !important; }` so we also need the `!important` here to be able to override the default hidden behavior on the sphinx rendered scikit-learn.org. See: https://github.com/scikit-learn/scikit-learn/issues/21755 */display: inline-block !important;position: relative;}#sk-container-id-1 div.sk-text-repr-fallback {display: none;}</style><div id=\"sk-container-id-1\" class=\"sk-top-container\"><div class=\"sk-text-repr-fallback\"><pre>LGBMClassifier()</pre><b>In a Jupyter environment, please rerun this cell to show the HTML representation or trust the notebook. <br />On GitHub, the HTML representation is unable to render, please try loading this page with nbviewer.org.</b></div><div class=\"sk-container\" hidden><div class=\"sk-item\"><div class=\"sk-estimator sk-toggleable\"><input class=\"sk-toggleable__control sk-hidden--visually\" id=\"sk-estimator-id-1\" type=\"checkbox\" checked><label for=\"sk-estimator-id-1\" class=\"sk-toggleable__label sk-toggleable__label-arrow\">LGBMClassifier</label><div class=\"sk-toggleable__content\"><pre>LGBMClassifier()</pre></div></div></div></div></div>"
      ],
      "text/plain": [
       "LGBMClassifier()"
      ]
     },
     "execution_count": 75,
     "metadata": {},
     "output_type": "execute_result"
    }
   ],
   "source": [
    "lgbm = LGBMClassifier()\n",
    "lgbm.fit(xtrain, ytrain)"
   ]
  },
  {
   "cell_type": "code",
   "execution_count": 76,
   "id": "d51ef2d1",
   "metadata": {
    "execution": {
     "iopub.execute_input": "2022-07-21T13:21:52.132593Z",
     "iopub.status.busy": "2022-07-21T13:21:52.131648Z",
     "iopub.status.idle": "2022-07-21T13:21:52.582695Z",
     "shell.execute_reply": "2022-07-21T13:21:52.581756Z"
    },
    "id": "A_pukqlZyK9S",
    "papermill": {
     "duration": 0.476166,
     "end_time": "2022-07-21T13:21:52.585279",
     "exception": false,
     "start_time": "2022-07-21T13:21:52.109113",
     "status": "completed"
    },
    "tags": []
   },
   "outputs": [],
   "source": [
    "lgbm_predict = lgbm.predict(xtest)"
   ]
  },
  {
   "cell_type": "code",
   "execution_count": 77,
   "id": "3a7864ce",
   "metadata": {
    "execution": {
     "iopub.execute_input": "2022-07-21T13:21:52.629079Z",
     "iopub.status.busy": "2022-07-21T13:21:52.627883Z",
     "iopub.status.idle": "2022-07-21T13:21:53.271160Z",
     "shell.execute_reply": "2022-07-21T13:21:53.269717Z"
    },
    "id": "NwrEM65fyde_",
    "papermill": {
     "duration": 0.668339,
     "end_time": "2022-07-21T13:21:53.274312",
     "exception": false,
     "start_time": "2022-07-21T13:21:52.605973",
     "status": "completed"
    },
    "tags": []
   },
   "outputs": [],
   "source": [
    "lgbm_score = lgbm.score(xtest, ytest)\n",
    "lgbm_recall = recall_score(ytest, lgbm_predict)\n",
    "lgbm_precision = precision_score(ytest, lgbm_predict)"
   ]
  },
  {
   "cell_type": "code",
   "execution_count": 78,
   "id": "a5f11c0c",
   "metadata": {
    "execution": {
     "iopub.execute_input": "2022-07-21T13:21:53.320911Z",
     "iopub.status.busy": "2022-07-21T13:21:53.320444Z",
     "iopub.status.idle": "2022-07-21T13:21:53.327330Z",
     "shell.execute_reply": "2022-07-21T13:21:53.326177Z"
    },
    "id": "SdwW28MVymon",
    "outputId": "9d258261-8145-40a5-e04e-193b9599dd72",
    "papermill": {
     "duration": 0.031134,
     "end_time": "2022-07-21T13:21:53.329587",
     "exception": false,
     "start_time": "2022-07-21T13:21:53.298453",
     "status": "completed"
    },
    "tags": []
   },
   "outputs": [
    {
     "data": {
      "text/plain": [
       "(0.7056812018017593, 0.7076252723311547, 0.7054155269367582)"
      ]
     },
     "execution_count": 78,
     "metadata": {},
     "output_type": "execute_result"
    }
   ],
   "source": [
    "lgbm_score, lgbm_recall, lgbm_precision"
   ]
  },
  {
   "cell_type": "code",
   "execution_count": 79,
   "id": "a66c82ad",
   "metadata": {
    "execution": {
     "iopub.execute_input": "2022-07-21T13:21:53.379444Z",
     "iopub.status.busy": "2022-07-21T13:21:53.378218Z",
     "iopub.status.idle": "2022-07-21T13:21:53.905125Z",
     "shell.execute_reply": "2022-07-21T13:21:53.903733Z"
    },
    "id": "H--hpL1c5XRk",
    "papermill": {
     "duration": 0.558302,
     "end_time": "2022-07-21T13:21:53.908159",
     "exception": false,
     "start_time": "2022-07-21T13:21:53.349857",
     "status": "completed"
    },
    "tags": []
   },
   "outputs": [],
   "source": [
    "lgbm_rocauc = roc_auc_score(ytest, lgbm.predict_proba(xtest)[:,1])"
   ]
  },
  {
   "cell_type": "code",
   "execution_count": 80,
   "id": "a82b8e0a",
   "metadata": {
    "execution": {
     "iopub.execute_input": "2022-07-21T13:21:53.951412Z",
     "iopub.status.busy": "2022-07-21T13:21:53.950931Z",
     "iopub.status.idle": "2022-07-21T13:21:53.958550Z",
     "shell.execute_reply": "2022-07-21T13:21:53.957267Z"
    },
    "id": "X-BKbNcW5cXD",
    "outputId": "6ff14885-a6f3-4805-c85b-839e059d3218",
    "papermill": {
     "duration": 0.032351,
     "end_time": "2022-07-21T13:21:53.960978",
     "exception": false,
     "start_time": "2022-07-21T13:21:53.928627",
     "status": "completed"
    },
    "tags": []
   },
   "outputs": [
    {
     "data": {
      "text/plain": [
       "0.7811533308299983"
      ]
     },
     "execution_count": 80,
     "metadata": {},
     "output_type": "execute_result"
    }
   ],
   "source": [
    "lgbm_rocauc"
   ]
  },
  {
   "cell_type": "markdown",
   "id": "715faf27",
   "metadata": {
    "id": "pYLcx6zzrRvk",
    "papermill": {
     "duration": 0.020716,
     "end_time": "2022-07-21T13:21:54.002813",
     "exception": false,
     "start_time": "2022-07-21T13:21:53.982097",
     "status": "completed"
    },
    "tags": []
   },
   "source": [
    "# MLPClassifier"
   ]
  },
  {
   "cell_type": "code",
   "execution_count": 81,
   "id": "ae061c5d",
   "metadata": {
    "execution": {
     "iopub.execute_input": "2022-07-21T13:21:54.047654Z",
     "iopub.status.busy": "2022-07-21T13:21:54.046785Z",
     "iopub.status.idle": "2022-07-21T13:21:54.051568Z",
     "shell.execute_reply": "2022-07-21T13:21:54.050729Z"
    },
    "id": "grBg7tvvsGnC",
    "papermill": {
     "duration": 0.029817,
     "end_time": "2022-07-21T13:21:54.053836",
     "exception": false,
     "start_time": "2022-07-21T13:21:54.024019",
     "status": "completed"
    },
    "tags": []
   },
   "outputs": [],
   "source": [
    "mlp = MLPClassifier(hidden_layer_sizes=(100, 20), early_stopping = True, max_iter = 200)"
   ]
  },
  {
   "cell_type": "code",
   "execution_count": 82,
   "id": "08d27231",
   "metadata": {
    "execution": {
     "iopub.execute_input": "2022-07-21T13:21:54.099780Z",
     "iopub.status.busy": "2022-07-21T13:21:54.099009Z",
     "iopub.status.idle": "2022-07-21T13:27:39.407604Z",
     "shell.execute_reply": "2022-07-21T13:27:39.405094Z"
    },
    "id": "knlqeApfsdp3",
    "outputId": "17c21d56-356c-4375-d081-0a4f3a02cfe4",
    "papermill": {
     "duration": 345.395094,
     "end_time": "2022-07-21T13:27:39.469665",
     "exception": false,
     "start_time": "2022-07-21T13:21:54.074571",
     "status": "completed"
    },
    "tags": []
   },
   "outputs": [
    {
     "data": {
      "text/html": [
       "<style>#sk-container-id-2 {color: black;background-color: white;}#sk-container-id-2 pre{padding: 0;}#sk-container-id-2 div.sk-toggleable {background-color: white;}#sk-container-id-2 label.sk-toggleable__label {cursor: pointer;display: block;width: 100%;margin-bottom: 0;padding: 0.3em;box-sizing: border-box;text-align: center;}#sk-container-id-2 label.sk-toggleable__label-arrow:before {content: \"▸\";float: left;margin-right: 0.25em;color: #696969;}#sk-container-id-2 label.sk-toggleable__label-arrow:hover:before {color: black;}#sk-container-id-2 div.sk-estimator:hover label.sk-toggleable__label-arrow:before {color: black;}#sk-container-id-2 div.sk-toggleable__content {max-height: 0;max-width: 0;overflow: hidden;text-align: left;background-color: #f0f8ff;}#sk-container-id-2 div.sk-toggleable__content pre {margin: 0.2em;color: black;border-radius: 0.25em;background-color: #f0f8ff;}#sk-container-id-2 input.sk-toggleable__control:checked~div.sk-toggleable__content {max-height: 200px;max-width: 100%;overflow: auto;}#sk-container-id-2 input.sk-toggleable__control:checked~label.sk-toggleable__label-arrow:before {content: \"▾\";}#sk-container-id-2 div.sk-estimator input.sk-toggleable__control:checked~label.sk-toggleable__label {background-color: #d4ebff;}#sk-container-id-2 div.sk-label input.sk-toggleable__control:checked~label.sk-toggleable__label {background-color: #d4ebff;}#sk-container-id-2 input.sk-hidden--visually {border: 0;clip: rect(1px 1px 1px 1px);clip: rect(1px, 1px, 1px, 1px);height: 1px;margin: -1px;overflow: hidden;padding: 0;position: absolute;width: 1px;}#sk-container-id-2 div.sk-estimator {font-family: monospace;background-color: #f0f8ff;border: 1px dotted black;border-radius: 0.25em;box-sizing: border-box;margin-bottom: 0.5em;}#sk-container-id-2 div.sk-estimator:hover {background-color: #d4ebff;}#sk-container-id-2 div.sk-parallel-item::after {content: \"\";width: 100%;border-bottom: 1px solid gray;flex-grow: 1;}#sk-container-id-2 div.sk-label:hover label.sk-toggleable__label {background-color: #d4ebff;}#sk-container-id-2 div.sk-serial::before {content: \"\";position: absolute;border-left: 1px solid gray;box-sizing: border-box;top: 0;bottom: 0;left: 50%;z-index: 0;}#sk-container-id-2 div.sk-serial {display: flex;flex-direction: column;align-items: center;background-color: white;padding-right: 0.2em;padding-left: 0.2em;position: relative;}#sk-container-id-2 div.sk-item {position: relative;z-index: 1;}#sk-container-id-2 div.sk-parallel {display: flex;align-items: stretch;justify-content: center;background-color: white;position: relative;}#sk-container-id-2 div.sk-item::before, #sk-container-id-2 div.sk-parallel-item::before {content: \"\";position: absolute;border-left: 1px solid gray;box-sizing: border-box;top: 0;bottom: 0;left: 50%;z-index: -1;}#sk-container-id-2 div.sk-parallel-item {display: flex;flex-direction: column;z-index: 1;position: relative;background-color: white;}#sk-container-id-2 div.sk-parallel-item:first-child::after {align-self: flex-end;width: 50%;}#sk-container-id-2 div.sk-parallel-item:last-child::after {align-self: flex-start;width: 50%;}#sk-container-id-2 div.sk-parallel-item:only-child::after {width: 0;}#sk-container-id-2 div.sk-dashed-wrapped {border: 1px dashed gray;margin: 0 0.4em 0.5em 0.4em;box-sizing: border-box;padding-bottom: 0.4em;background-color: white;}#sk-container-id-2 div.sk-label label {font-family: monospace;font-weight: bold;display: inline-block;line-height: 1.2em;}#sk-container-id-2 div.sk-label-container {text-align: center;}#sk-container-id-2 div.sk-container {/* jupyter's `normalize.less` sets `[hidden] { display: none; }` but bootstrap.min.css set `[hidden] { display: none !important; }` so we also need the `!important` here to be able to override the default hidden behavior on the sphinx rendered scikit-learn.org. See: https://github.com/scikit-learn/scikit-learn/issues/21755 */display: inline-block !important;position: relative;}#sk-container-id-2 div.sk-text-repr-fallback {display: none;}</style><div id=\"sk-container-id-2\" class=\"sk-top-container\"><div class=\"sk-text-repr-fallback\"><pre>MLPClassifier(early_stopping=True, hidden_layer_sizes=(100, 20))</pre><b>In a Jupyter environment, please rerun this cell to show the HTML representation or trust the notebook. <br />On GitHub, the HTML representation is unable to render, please try loading this page with nbviewer.org.</b></div><div class=\"sk-container\" hidden><div class=\"sk-item\"><div class=\"sk-estimator sk-toggleable\"><input class=\"sk-toggleable__control sk-hidden--visually\" id=\"sk-estimator-id-2\" type=\"checkbox\" checked><label for=\"sk-estimator-id-2\" class=\"sk-toggleable__label sk-toggleable__label-arrow\">MLPClassifier</label><div class=\"sk-toggleable__content\"><pre>MLPClassifier(early_stopping=True, hidden_layer_sizes=(100, 20))</pre></div></div></div></div></div>"
      ],
      "text/plain": [
       "MLPClassifier(early_stopping=True, hidden_layer_sizes=(100, 20))"
      ]
     },
     "execution_count": 82,
     "metadata": {},
     "output_type": "execute_result"
    }
   ],
   "source": [
    "mlp.fit(xtrain, ytrain)"
   ]
  },
  {
   "cell_type": "code",
   "execution_count": 83,
   "id": "b63aa0bb",
   "metadata": {
    "execution": {
     "iopub.execute_input": "2022-07-21T13:27:39.535121Z",
     "iopub.status.busy": "2022-07-21T13:27:39.534381Z",
     "iopub.status.idle": "2022-07-21T13:27:40.152788Z",
     "shell.execute_reply": "2022-07-21T13:27:40.151153Z"
    },
    "id": "eguKqF7Ks2sy",
    "papermill": {
     "duration": 0.64693,
     "end_time": "2022-07-21T13:27:40.157773",
     "exception": false,
     "start_time": "2022-07-21T13:27:39.510843",
     "status": "completed"
    },
    "tags": []
   },
   "outputs": [],
   "source": [
    "mlp_predict = mlp.predict(xtest)"
   ]
  },
  {
   "cell_type": "code",
   "execution_count": 84,
   "id": "db05310f",
   "metadata": {
    "execution": {
     "iopub.execute_input": "2022-07-21T13:27:40.247762Z",
     "iopub.status.busy": "2022-07-21T13:27:40.247036Z",
     "iopub.status.idle": "2022-07-21T13:27:41.070492Z",
     "shell.execute_reply": "2022-07-21T13:27:41.069082Z"
    },
    "id": "toK9iCi2s7xm",
    "papermill": {
     "duration": 0.871966,
     "end_time": "2022-07-21T13:27:41.073575",
     "exception": false,
     "start_time": "2022-07-21T13:27:40.201609",
     "status": "completed"
    },
    "tags": []
   },
   "outputs": [],
   "source": [
    "mlp_score = mlp.score(xtest, ytest)\n",
    "mlp_recall = recall_score(ytest, mlp_predict)\n",
    "mlp_precision = precision_score(ytest, mlp_predict)"
   ]
  },
  {
   "cell_type": "code",
   "execution_count": 85,
   "id": "d1f7ae9b",
   "metadata": {
    "execution": {
     "iopub.execute_input": "2022-07-21T13:27:41.119714Z",
     "iopub.status.busy": "2022-07-21T13:27:41.118336Z",
     "iopub.status.idle": "2022-07-21T13:27:41.126657Z",
     "shell.execute_reply": "2022-07-21T13:27:41.125464Z"
    },
    "id": "YaBDLblytLad",
    "outputId": "141f505b-ede3-4ac1-f1ba-b043d3a1de7b",
    "papermill": {
     "duration": 0.033082,
     "end_time": "2022-07-21T13:27:41.128897",
     "exception": false,
     "start_time": "2022-07-21T13:27:41.095815",
     "status": "completed"
    },
    "tags": []
   },
   "outputs": [
    {
     "data": {
      "text/plain": [
       "(0.6977808173949956, 0.7372902314078784, 0.6837885953319718)"
      ]
     },
     "execution_count": 85,
     "metadata": {},
     "output_type": "execute_result"
    }
   ],
   "source": [
    "mlp_score, mlp_recall, mlp_precision"
   ]
  },
  {
   "cell_type": "code",
   "execution_count": 86,
   "id": "382a0b7e",
   "metadata": {
    "execution": {
     "iopub.execute_input": "2022-07-21T13:27:41.172744Z",
     "iopub.status.busy": "2022-07-21T13:27:41.172225Z",
     "iopub.status.idle": "2022-07-21T13:27:41.854528Z",
     "shell.execute_reply": "2022-07-21T13:27:41.853277Z"
    },
    "id": "PJfHtq3StZ92",
    "papermill": {
     "duration": 0.707953,
     "end_time": "2022-07-21T13:27:41.857471",
     "exception": false,
     "start_time": "2022-07-21T13:27:41.149518",
     "status": "completed"
    },
    "tags": []
   },
   "outputs": [],
   "source": [
    "mlp_rocauc = roc_auc_score(ytest, mlp.predict_proba(xtest)[:,1])"
   ]
  },
  {
   "cell_type": "code",
   "execution_count": 87,
   "id": "66bf90c1",
   "metadata": {
    "execution": {
     "iopub.execute_input": "2022-07-21T13:27:41.901727Z",
     "iopub.status.busy": "2022-07-21T13:27:41.901244Z",
     "iopub.status.idle": "2022-07-21T13:27:41.909729Z",
     "shell.execute_reply": "2022-07-21T13:27:41.908369Z"
    },
    "id": "JEGGfn_KteCE",
    "outputId": "a959e232-957b-4fea-83fa-893461ec6763",
    "papermill": {
     "duration": 0.033733,
     "end_time": "2022-07-21T13:27:41.912284",
     "exception": false,
     "start_time": "2022-07-21T13:27:41.878551",
     "status": "completed"
    },
    "tags": []
   },
   "outputs": [
    {
     "data": {
      "text/plain": [
       "0.767991087676277"
      ]
     },
     "execution_count": 87,
     "metadata": {},
     "output_type": "execute_result"
    }
   ],
   "source": [
    "mlp_rocauc"
   ]
  },
  {
   "cell_type": "markdown",
   "id": "d6e9cfc4",
   "metadata": {
    "id": "gfHcPXCFyuUD",
    "papermill": {
     "duration": 0.020734,
     "end_time": "2022-07-21T13:27:41.954609",
     "exception": false,
     "start_time": "2022-07-21T13:27:41.933875",
     "status": "completed"
    },
    "tags": []
   },
   "source": [
    "# Summarized results"
   ]
  },
  {
   "cell_type": "code",
   "execution_count": 88,
   "id": "b0bbe043",
   "metadata": {
    "execution": {
     "iopub.execute_input": "2022-07-21T13:27:41.999387Z",
     "iopub.status.busy": "2022-07-21T13:27:41.998941Z",
     "iopub.status.idle": "2022-07-21T13:27:42.011724Z",
     "shell.execute_reply": "2022-07-21T13:27:42.009876Z"
    },
    "id": "Rq6Sqz7cyvZC",
    "outputId": "18b82abc-1b1b-4560-c404-2b3fe667d924",
    "papermill": {
     "duration": 0.038874,
     "end_time": "2022-07-21T13:27:42.015076",
     "exception": false,
     "start_time": "2022-07-21T13:27:41.976202",
     "status": "completed"
    },
    "tags": []
   },
   "outputs": [
    {
     "name": "stdout",
     "output_type": "stream",
     "text": [
      "0.8358 - KNN Accuracy w/ 7 neighbors\n",
      "0.9888 - KNN Recall w/ 7 neighbors\n",
      "0.7573 - KNN Precision w/ 7 neighbors\n",
      "0.9428 - KNN ROC AUC w/ 7 neighbors\n",
      "\n",
      "0.8934 - Random Forest Accuracy\n",
      "0.9156 - Random Forest Recall\n",
      "0.8770 - Random Forest Precision\n",
      "0.9607 - Random Forest ROC AUC\n",
      "\n",
      "0.6716 - Log Accuracy\n",
      "0.6655 - Log Recall\n",
      "0.6743 - Log Precision\n",
      "0.7331 - Log ROC AUC\n",
      "\n",
      "0.7057 - LGBM Accuracy\n",
      "0.7076 - LGBM Recall\n",
      "0.7054 - LGBM Precision\n",
      "0.7812 - LGBM ROC AUC\n",
      "\n",
      "0.6978 - MLP Accuracy\n",
      "0.7373 - MLP Recall\n",
      "0.6838 - MLP Precision\n",
      "0.7680 - MLP ROC AUC\n"
     ]
    }
   ],
   "source": [
    "print('{:.4f}'.format(knn_score), '- KNN Accuracy w/', n, 'neighbors')\n",
    "print('{:.4f}'.format(knn_recall), '- KNN Recall w/', n, 'neighbors')\n",
    "print('{:.4f}'.format(knn_precision), '- KNN Precision w/', n, 'neighbors')\n",
    "print('{:.4f}'.format(knn_rocauc), '- KNN ROC AUC w/', n, 'neighbors')\n",
    "print()\n",
    "print('{:.4f}'.format(rf_score), '- Random Forest Accuracy')\n",
    "print('{:.4f}'.format(rf_recall), '- Random Forest Recall')\n",
    "print('{:.4f}'.format(rf_precision), '- Random Forest Precision')\n",
    "print('{:.4f}'.format(rf_rocauc), '- Random Forest ROC AUC')\n",
    "print()\n",
    "print('{:.4f}'.format(log_score), '- Log Accuracy')\n",
    "print('{:.4f}'.format(log_recall), '- Log Recall')\n",
    "print('{:.4f}'.format(log_precision), '- Log Precision')\n",
    "print('{:.4f}'.format(log_rocauc), '- Log ROC AUC')\n",
    "print()\n",
    "print('{:.4f}'.format(lgbm_score), '- LGBM Accuracy')\n",
    "print('{:.4f}'.format(lgbm_recall), '- LGBM Recall')\n",
    "print('{:.4f}'.format(lgbm_precision), '- LGBM Precision')\n",
    "print('{:.4f}'.format(lgbm_rocauc), '- LGBM ROC AUC')\n",
    "print()\n",
    "print('{:.4f}'.format(mlp_score), '- MLP Accuracy')\n",
    "print('{:.4f}'.format(mlp_recall), '- MLP Recall')\n",
    "print('{:.4f}'.format(mlp_precision), '- MLP Precision')\n",
    "print('{:.4f}'.format(mlp_rocauc), '- MLP ROC AUC')"
   ]
  },
  {
   "cell_type": "markdown",
   "id": "52519215",
   "metadata": {
    "id": "h_Rp7wes01Nh",
    "papermill": {
     "duration": 0.020518,
     "end_time": "2022-07-21T13:27:42.057891",
     "exception": false,
     "start_time": "2022-07-21T13:27:42.037373",
     "status": "completed"
    },
    "tags": []
   },
   "source": [
    "# Predicting"
   ]
  },
  {
   "cell_type": "code",
   "execution_count": 89,
   "id": "4fcc0c17",
   "metadata": {
    "execution": {
     "iopub.execute_input": "2022-07-21T13:27:42.103200Z",
     "iopub.status.busy": "2022-07-21T13:27:42.102245Z",
     "iopub.status.idle": "2022-07-21T13:27:42.751453Z",
     "shell.execute_reply": "2022-07-21T13:27:42.750269Z"
    },
    "id": "SjC_D0FqujdH",
    "papermill": {
     "duration": 0.674416,
     "end_time": "2022-07-21T13:27:42.754257",
     "exception": false,
     "start_time": "2022-07-21T13:27:42.079841",
     "status": "completed"
    },
    "tags": []
   },
   "outputs": [],
   "source": [
    "submission = pd.read_csv('application_test.csv')"
   ]
  },
  {
   "cell_type": "code",
   "execution_count": 90,
   "id": "77d753df",
   "metadata": {},
   "outputs": [
    {
     "data": {
      "text/html": [
       "<div>\n",
       "<style scoped>\n",
       "    .dataframe tbody tr th:only-of-type {\n",
       "        vertical-align: middle;\n",
       "    }\n",
       "\n",
       "    .dataframe tbody tr th {\n",
       "        vertical-align: top;\n",
       "    }\n",
       "\n",
       "    .dataframe thead th {\n",
       "        text-align: right;\n",
       "    }\n",
       "</style>\n",
       "<table border=\"1\" class=\"dataframe\">\n",
       "  <thead>\n",
       "    <tr style=\"text-align: right;\">\n",
       "      <th></th>\n",
       "      <th>SK_ID_CURR</th>\n",
       "      <th>NAME_CONTRACT_TYPE</th>\n",
       "      <th>CODE_GENDER</th>\n",
       "      <th>FLAG_OWN_CAR</th>\n",
       "      <th>FLAG_OWN_REALTY</th>\n",
       "      <th>CNT_CHILDREN</th>\n",
       "      <th>AMT_INCOME_TOTAL</th>\n",
       "      <th>AMT_CREDIT</th>\n",
       "      <th>AMT_ANNUITY</th>\n",
       "      <th>AMT_GOODS_PRICE</th>\n",
       "      <th>...</th>\n",
       "      <th>FLAG_DOCUMENT_18</th>\n",
       "      <th>FLAG_DOCUMENT_19</th>\n",
       "      <th>FLAG_DOCUMENT_20</th>\n",
       "      <th>FLAG_DOCUMENT_21</th>\n",
       "      <th>AMT_REQ_CREDIT_BUREAU_HOUR</th>\n",
       "      <th>AMT_REQ_CREDIT_BUREAU_DAY</th>\n",
       "      <th>AMT_REQ_CREDIT_BUREAU_WEEK</th>\n",
       "      <th>AMT_REQ_CREDIT_BUREAU_MON</th>\n",
       "      <th>AMT_REQ_CREDIT_BUREAU_QRT</th>\n",
       "      <th>AMT_REQ_CREDIT_BUREAU_YEAR</th>\n",
       "    </tr>\n",
       "  </thead>\n",
       "  <tbody>\n",
       "    <tr>\n",
       "      <th>0</th>\n",
       "      <td>100001</td>\n",
       "      <td>Cash loans</td>\n",
       "      <td>F</td>\n",
       "      <td>N</td>\n",
       "      <td>Y</td>\n",
       "      <td>0</td>\n",
       "      <td>135000.0</td>\n",
       "      <td>568800.0</td>\n",
       "      <td>20560.5</td>\n",
       "      <td>450000.0</td>\n",
       "      <td>...</td>\n",
       "      <td>0</td>\n",
       "      <td>0</td>\n",
       "      <td>0</td>\n",
       "      <td>0</td>\n",
       "      <td>0.0</td>\n",
       "      <td>0.0</td>\n",
       "      <td>0.0</td>\n",
       "      <td>0.0</td>\n",
       "      <td>0.0</td>\n",
       "      <td>0.0</td>\n",
       "    </tr>\n",
       "    <tr>\n",
       "      <th>1</th>\n",
       "      <td>100005</td>\n",
       "      <td>Cash loans</td>\n",
       "      <td>M</td>\n",
       "      <td>N</td>\n",
       "      <td>Y</td>\n",
       "      <td>0</td>\n",
       "      <td>99000.0</td>\n",
       "      <td>222768.0</td>\n",
       "      <td>17370.0</td>\n",
       "      <td>180000.0</td>\n",
       "      <td>...</td>\n",
       "      <td>0</td>\n",
       "      <td>0</td>\n",
       "      <td>0</td>\n",
       "      <td>0</td>\n",
       "      <td>0.0</td>\n",
       "      <td>0.0</td>\n",
       "      <td>0.0</td>\n",
       "      <td>0.0</td>\n",
       "      <td>0.0</td>\n",
       "      <td>3.0</td>\n",
       "    </tr>\n",
       "    <tr>\n",
       "      <th>2</th>\n",
       "      <td>100013</td>\n",
       "      <td>Cash loans</td>\n",
       "      <td>M</td>\n",
       "      <td>Y</td>\n",
       "      <td>Y</td>\n",
       "      <td>0</td>\n",
       "      <td>202500.0</td>\n",
       "      <td>663264.0</td>\n",
       "      <td>69777.0</td>\n",
       "      <td>630000.0</td>\n",
       "      <td>...</td>\n",
       "      <td>0</td>\n",
       "      <td>0</td>\n",
       "      <td>0</td>\n",
       "      <td>0</td>\n",
       "      <td>0.0</td>\n",
       "      <td>0.0</td>\n",
       "      <td>0.0</td>\n",
       "      <td>0.0</td>\n",
       "      <td>1.0</td>\n",
       "      <td>4.0</td>\n",
       "    </tr>\n",
       "    <tr>\n",
       "      <th>3</th>\n",
       "      <td>100028</td>\n",
       "      <td>Cash loans</td>\n",
       "      <td>F</td>\n",
       "      <td>N</td>\n",
       "      <td>Y</td>\n",
       "      <td>2</td>\n",
       "      <td>315000.0</td>\n",
       "      <td>1575000.0</td>\n",
       "      <td>49018.5</td>\n",
       "      <td>1575000.0</td>\n",
       "      <td>...</td>\n",
       "      <td>0</td>\n",
       "      <td>0</td>\n",
       "      <td>0</td>\n",
       "      <td>0</td>\n",
       "      <td>0.0</td>\n",
       "      <td>0.0</td>\n",
       "      <td>0.0</td>\n",
       "      <td>0.0</td>\n",
       "      <td>0.0</td>\n",
       "      <td>3.0</td>\n",
       "    </tr>\n",
       "    <tr>\n",
       "      <th>4</th>\n",
       "      <td>100038</td>\n",
       "      <td>Cash loans</td>\n",
       "      <td>M</td>\n",
       "      <td>Y</td>\n",
       "      <td>N</td>\n",
       "      <td>1</td>\n",
       "      <td>180000.0</td>\n",
       "      <td>625500.0</td>\n",
       "      <td>32067.0</td>\n",
       "      <td>625500.0</td>\n",
       "      <td>...</td>\n",
       "      <td>0</td>\n",
       "      <td>0</td>\n",
       "      <td>0</td>\n",
       "      <td>0</td>\n",
       "      <td>NaN</td>\n",
       "      <td>NaN</td>\n",
       "      <td>NaN</td>\n",
       "      <td>NaN</td>\n",
       "      <td>NaN</td>\n",
       "      <td>NaN</td>\n",
       "    </tr>\n",
       "  </tbody>\n",
       "</table>\n",
       "<p>5 rows × 121 columns</p>\n",
       "</div>"
      ],
      "text/plain": [
       "   SK_ID_CURR NAME_CONTRACT_TYPE CODE_GENDER FLAG_OWN_CAR FLAG_OWN_REALTY  \\\n",
       "0      100001         Cash loans           F            N               Y   \n",
       "1      100005         Cash loans           M            N               Y   \n",
       "2      100013         Cash loans           M            Y               Y   \n",
       "3      100028         Cash loans           F            N               Y   \n",
       "4      100038         Cash loans           M            Y               N   \n",
       "\n",
       "   CNT_CHILDREN  AMT_INCOME_TOTAL  AMT_CREDIT  AMT_ANNUITY  AMT_GOODS_PRICE  \\\n",
       "0             0          135000.0    568800.0      20560.5         450000.0   \n",
       "1             0           99000.0    222768.0      17370.0         180000.0   \n",
       "2             0          202500.0    663264.0      69777.0         630000.0   \n",
       "3             2          315000.0   1575000.0      49018.5        1575000.0   \n",
       "4             1          180000.0    625500.0      32067.0         625500.0   \n",
       "\n",
       "   ... FLAG_DOCUMENT_18 FLAG_DOCUMENT_19 FLAG_DOCUMENT_20 FLAG_DOCUMENT_21  \\\n",
       "0  ...                0                0                0                0   \n",
       "1  ...                0                0                0                0   \n",
       "2  ...                0                0                0                0   \n",
       "3  ...                0                0                0                0   \n",
       "4  ...                0                0                0                0   \n",
       "\n",
       "  AMT_REQ_CREDIT_BUREAU_HOUR  AMT_REQ_CREDIT_BUREAU_DAY  \\\n",
       "0                        0.0                        0.0   \n",
       "1                        0.0                        0.0   \n",
       "2                        0.0                        0.0   \n",
       "3                        0.0                        0.0   \n",
       "4                        NaN                        NaN   \n",
       "\n",
       "   AMT_REQ_CREDIT_BUREAU_WEEK  AMT_REQ_CREDIT_BUREAU_MON  \\\n",
       "0                         0.0                        0.0   \n",
       "1                         0.0                        0.0   \n",
       "2                         0.0                        0.0   \n",
       "3                         0.0                        0.0   \n",
       "4                         NaN                        NaN   \n",
       "\n",
       "   AMT_REQ_CREDIT_BUREAU_QRT  AMT_REQ_CREDIT_BUREAU_YEAR  \n",
       "0                        0.0                         0.0  \n",
       "1                        0.0                         3.0  \n",
       "2                        1.0                         4.0  \n",
       "3                        0.0                         3.0  \n",
       "4                        NaN                         NaN  \n",
       "\n",
       "[5 rows x 121 columns]"
      ]
     },
     "execution_count": 90,
     "metadata": {},
     "output_type": "execute_result"
    }
   ],
   "source": [
    "submission.head()"
   ]
  },
  {
   "cell_type": "markdown",
   "id": "a14a0688",
   "metadata": {
    "id": "NOIW6un1emU0",
    "papermill": {
     "duration": 0.020673,
     "end_time": "2022-07-21T13:27:42.796153",
     "exception": false,
     "start_time": "2022-07-21T13:27:42.775480",
     "status": "completed"
    },
    "tags": []
   },
   "source": [
    "## KNN"
   ]
  },
  {
   "cell_type": "code",
   "execution_count": 91,
   "id": "0a7b2a29",
   "metadata": {
    "execution": {
     "iopub.execute_input": "2022-07-21T13:27:42.840906Z",
     "iopub.status.busy": "2022-07-21T13:27:42.839668Z",
     "iopub.status.idle": "2022-07-21T13:28:25.151743Z",
     "shell.execute_reply": "2022-07-21T13:28:25.150462Z"
    },
    "id": "N3I_Qc9o2Kek",
    "outputId": "41076873-0560-4ed9-bb6f-332938c34f16",
    "papermill": {
     "duration": 42.337783,
     "end_time": "2022-07-21T13:28:25.155063",
     "exception": false,
     "start_time": "2022-07-21T13:27:42.817280",
     "status": "completed"
    },
    "tags": []
   },
   "outputs": [],
   "source": [
    "submit_knn = knn.predict(test)\n",
    "submission_clean = submission[['SK_ID_CURR']]\n",
    "submission_clean['TARGET'] = submit_knn\n",
    "submission_clean.to_csv('./submission (KNN)', index=False)"
   ]
  },
  {
   "attachments": {},
   "cell_type": "markdown",
   "id": "794a1dd6",
   "metadata": {},
   "source": [
    "# Random Forest"
   ]
  },
  {
   "cell_type": "code",
   "execution_count": 92,
   "id": "f6ef40df",
   "metadata": {},
   "outputs": [],
   "source": [
    "submit_rf = rf.predict(test)\n",
    "submission_clean = submission[['SK_ID_CURR']]\n",
    "submission_clean['TARGET'] = submit_knn\n",
    "submission_clean.to_csv('./submission (RF)', index=False)"
   ]
  },
  {
   "cell_type": "markdown",
   "id": "5e89f5ae",
   "metadata": {
    "id": "hjO1V8J2en_l",
    "papermill": {
     "duration": 0.022523,
     "end_time": "2022-07-21T13:28:25.200862",
     "exception": false,
     "start_time": "2022-07-21T13:28:25.178339",
     "status": "completed"
    },
    "tags": []
   },
   "source": [
    "## Logistic Regression"
   ]
  },
  {
   "cell_type": "code",
   "execution_count": 93,
   "id": "d7f2dd71",
   "metadata": {
    "execution": {
     "iopub.execute_input": "2022-07-21T13:28:25.246480Z",
     "iopub.status.busy": "2022-07-21T13:28:25.245218Z",
     "iopub.status.idle": "2022-07-21T13:28:25.374559Z",
     "shell.execute_reply": "2022-07-21T13:28:25.370101Z"
    },
    "id": "4Zd1JI5EeyTU",
    "outputId": "c70f3ee9-8dda-42f5-b560-715aead5e268",
    "papermill": {
     "duration": 0.15791,
     "end_time": "2022-07-21T13:28:25.380180",
     "exception": false,
     "start_time": "2022-07-21T13:28:25.222270",
     "status": "completed"
    },
    "tags": []
   },
   "outputs": [],
   "source": [
    "submit_log = log.predict(test)\n",
    "submission_clean = submission[['SK_ID_CURR']]\n",
    "submission_clean['TARGET'] = submit_log\n",
    "submission_clean.to_csv('./submission (logistic)', index=False)"
   ]
  },
  {
   "cell_type": "markdown",
   "id": "e8d68356",
   "metadata": {
    "id": "01W87_f6en2C",
    "papermill": {
     "duration": 0.028665,
     "end_time": "2022-07-21T13:28:25.435519",
     "exception": false,
     "start_time": "2022-07-21T13:28:25.406854",
     "status": "completed"
    },
    "tags": []
   },
   "source": [
    "## LGB"
   ]
  },
  {
   "cell_type": "code",
   "execution_count": 94,
   "id": "127bfa57",
   "metadata": {
    "execution": {
     "iopub.execute_input": "2022-07-21T13:28:25.494135Z",
     "iopub.status.busy": "2022-07-21T13:28:25.493270Z",
     "iopub.status.idle": "2022-07-21T13:28:25.693172Z",
     "shell.execute_reply": "2022-07-21T13:28:25.691880Z"
    },
    "id": "SWy1rJi5e7-i",
    "outputId": "7f970705-cef4-45be-98e8-ed8c479ec1d0",
    "papermill": {
     "duration": 0.236193,
     "end_time": "2022-07-21T13:28:25.696353",
     "exception": false,
     "start_time": "2022-07-21T13:28:25.460160",
     "status": "completed"
    },
    "tags": []
   },
   "outputs": [],
   "source": [
    "submit_lgbm = lgbm.predict(test)\n",
    "submission_clean = submission[['SK_ID_CURR']]\n",
    "submission_clean['TARGET'] = submit_lgbm\n",
    "submission_clean.to_csv('./submission (LGBM)', index=False)"
   ]
  },
  {
   "cell_type": "markdown",
   "id": "5f2004cb",
   "metadata": {
    "id": "-qWWuj4KuKDM",
    "papermill": {
     "duration": 0.020742,
     "end_time": "2022-07-21T13:28:25.739306",
     "exception": false,
     "start_time": "2022-07-21T13:28:25.718564",
     "status": "completed"
    },
    "tags": []
   },
   "source": [
    "## MLP"
   ]
  },
  {
   "cell_type": "code",
   "execution_count": 95,
   "id": "2b2d4075",
   "metadata": {
    "execution": {
     "iopub.execute_input": "2022-07-21T13:28:25.784273Z",
     "iopub.status.busy": "2022-07-21T13:28:25.783197Z",
     "iopub.status.idle": "2022-07-21T13:28:26.086251Z",
     "shell.execute_reply": "2022-07-21T13:28:26.084655Z"
    },
    "id": "Hf1OpKfJuK_l",
    "outputId": "363eb07d-4228-40b4-a041-9f23985f29f8",
    "papermill": {
     "duration": 0.32866,
     "end_time": "2022-07-21T13:28:26.089235",
     "exception": false,
     "start_time": "2022-07-21T13:28:25.760575",
     "status": "completed"
    },
    "tags": []
   },
   "outputs": [],
   "source": [
    "submit_mlp = mlp.predict(test)\n",
    "submission_clean = submission[['SK_ID_CURR']]\n",
    "submission_clean['TARGET'] = submit_mlp\n",
    "submission_clean.to_csv('./submission (MLP)', index=False)"
   ]
  },
  {
   "cell_type": "markdown",
   "id": "486a58ff",
   "metadata": {
    "id": "uJK41RdQfnlZ",
    "papermill": {
     "duration": 0.02094,
     "end_time": "2022-07-21T13:28:26.131182",
     "exception": false,
     "start_time": "2022-07-21T13:28:26.110242",
     "status": "completed"
    },
    "tags": []
   },
   "source": [
    "## Blend"
   ]
  },
  {
   "cell_type": "code",
   "execution_count": 102,
   "id": "db7a732e",
   "metadata": {
    "execution": {
     "iopub.execute_input": "2022-07-21T13:28:26.177074Z",
     "iopub.status.busy": "2022-07-21T13:28:26.175721Z",
     "iopub.status.idle": "2022-07-21T13:28:26.186897Z",
     "shell.execute_reply": "2022-07-21T13:28:26.185811Z"
    },
    "id": "VwEZMy_LfoTo",
    "outputId": "5359bba7-2d07-41a5-f032-cc2e62cb311c",
    "papermill": {
     "duration": 0.036567,
     "end_time": "2022-07-21T13:28:26.189428",
     "exception": false,
     "start_time": "2022-07-21T13:28:26.152861",
     "status": "completed"
    },
    "tags": []
   },
   "outputs": [],
   "source": [
    "submission_clean = submission[['SK_ID_CURR','AMT_CREDIT']]\n",
    "submission_clean['TARGET_KNN'] = submit_knn\n",
    "submission_clean['TARGET_RF'] = submit_rf\n",
    "submission_clean['TARGET_LOG'] = submit_log\n",
    "submission_clean['TARGET_LGBM'] = submit_lgbm\n",
    "submission_clean['TARGET_MLP'] = submit_mlp"
   ]
  },
  {
   "cell_type": "code",
   "execution_count": 103,
   "id": "bb7aaf35",
   "metadata": {
    "execution": {
     "iopub.execute_input": "2022-07-21T13:28:26.235224Z",
     "iopub.status.busy": "2022-07-21T13:28:26.234337Z",
     "iopub.status.idle": "2022-07-21T13:28:26.315010Z",
     "shell.execute_reply": "2022-07-21T13:28:26.313963Z"
    },
    "id": "u6FVED9Bf1B2",
    "outputId": "5c1d51d2-f6c0-4d37-ddb1-90d67e9cf9c2",
    "papermill": {
     "duration": 0.106479,
     "end_time": "2022-07-21T13:28:26.317661",
     "exception": false,
     "start_time": "2022-07-21T13:28:26.211182",
     "status": "completed"
    },
    "tags": []
   },
   "outputs": [],
   "source": [
    "submission_clean['TARGET'] = submission_clean[['TARGET_KNN', 'TARGET_RF', 'TARGET_LOG', 'TARGET_LGBM', 'TARGET_MLP']].mean(axis=1)\n",
    "submission_clean['TARGET'] = submission_clean['TARGET'].round(decimals =0)\n",
    "submission_clean.drop(columns = ['TARGET_KNN', 'TARGET_RF', 'TARGET_LOG', 'TARGET_LGBM', 'TARGET_MLP'], inplace=True)\n",
    "submission_clean.to_csv('./submission(blend)', index=False)"
   ]
  },
  {
   "cell_type": "code",
   "execution_count": 104,
   "id": "e5133f4b",
   "metadata": {},
   "outputs": [
    {
     "data": {
      "text/html": [
       "<div>\n",
       "<style scoped>\n",
       "    .dataframe tbody tr th:only-of-type {\n",
       "        vertical-align: middle;\n",
       "    }\n",
       "\n",
       "    .dataframe tbody tr th {\n",
       "        vertical-align: top;\n",
       "    }\n",
       "\n",
       "    .dataframe thead th {\n",
       "        text-align: right;\n",
       "    }\n",
       "</style>\n",
       "<table border=\"1\" class=\"dataframe\">\n",
       "  <thead>\n",
       "    <tr style=\"text-align: right;\">\n",
       "      <th></th>\n",
       "      <th>SK_ID_CURR</th>\n",
       "      <th>AMT_CREDIT</th>\n",
       "      <th>TARGET</th>\n",
       "    </tr>\n",
       "  </thead>\n",
       "  <tbody>\n",
       "    <tr>\n",
       "      <th>0</th>\n",
       "      <td>100001</td>\n",
       "      <td>568800.0</td>\n",
       "      <td>0.0</td>\n",
       "    </tr>\n",
       "    <tr>\n",
       "      <th>1</th>\n",
       "      <td>100005</td>\n",
       "      <td>222768.0</td>\n",
       "      <td>0.0</td>\n",
       "    </tr>\n",
       "    <tr>\n",
       "      <th>2</th>\n",
       "      <td>100013</td>\n",
       "      <td>663264.0</td>\n",
       "      <td>0.0</td>\n",
       "    </tr>\n",
       "    <tr>\n",
       "      <th>3</th>\n",
       "      <td>100028</td>\n",
       "      <td>1575000.0</td>\n",
       "      <td>0.0</td>\n",
       "    </tr>\n",
       "    <tr>\n",
       "      <th>4</th>\n",
       "      <td>100038</td>\n",
       "      <td>625500.0</td>\n",
       "      <td>1.0</td>\n",
       "    </tr>\n",
       "    <tr>\n",
       "      <th>5</th>\n",
       "      <td>100042</td>\n",
       "      <td>959688.0</td>\n",
       "      <td>0.0</td>\n",
       "    </tr>\n",
       "    <tr>\n",
       "      <th>6</th>\n",
       "      <td>100057</td>\n",
       "      <td>499221.0</td>\n",
       "      <td>0.0</td>\n",
       "    </tr>\n",
       "    <tr>\n",
       "      <th>7</th>\n",
       "      <td>100065</td>\n",
       "      <td>180000.0</td>\n",
       "      <td>0.0</td>\n",
       "    </tr>\n",
       "    <tr>\n",
       "      <th>8</th>\n",
       "      <td>100066</td>\n",
       "      <td>364896.0</td>\n",
       "      <td>0.0</td>\n",
       "    </tr>\n",
       "    <tr>\n",
       "      <th>9</th>\n",
       "      <td>100067</td>\n",
       "      <td>45000.0</td>\n",
       "      <td>1.0</td>\n",
       "    </tr>\n",
       "  </tbody>\n",
       "</table>\n",
       "</div>"
      ],
      "text/plain": [
       "   SK_ID_CURR  AMT_CREDIT  TARGET\n",
       "0      100001    568800.0     0.0\n",
       "1      100005    222768.0     0.0\n",
       "2      100013    663264.0     0.0\n",
       "3      100028   1575000.0     0.0\n",
       "4      100038    625500.0     1.0\n",
       "5      100042    959688.0     0.0\n",
       "6      100057    499221.0     0.0\n",
       "7      100065    180000.0     0.0\n",
       "8      100066    364896.0     0.0\n",
       "9      100067     45000.0     1.0"
      ]
     },
     "execution_count": 104,
     "metadata": {},
     "output_type": "execute_result"
    }
   ],
   "source": [
    "result = pd.read_csv('submission(blend)')\n",
    "result.head(10)"
   ]
  },
  {
   "cell_type": "code",
   "execution_count": null,
   "id": "3e306212",
   "metadata": {},
   "outputs": [],
   "source": []
  },
  {
   "cell_type": "code",
   "execution_count": 105,
   "id": "21d1303b",
   "metadata": {},
   "outputs": [
    {
     "data": {
      "text/plain": [
       "0.0    34694\n",
       "1.0    14050\n",
       "Name: TARGET, dtype: int64"
      ]
     },
     "execution_count": 105,
     "metadata": {},
     "output_type": "execute_result"
    }
   ],
   "source": [
    "result.TARGET.value_counts()"
   ]
  },
  {
   "cell_type": "code",
   "execution_count": 106,
   "id": "25f1cc4c",
   "metadata": {},
   "outputs": [
    {
     "data": {
      "text/html": [
       "<div>\n",
       "<style scoped>\n",
       "    .dataframe tbody tr th:only-of-type {\n",
       "        vertical-align: middle;\n",
       "    }\n",
       "\n",
       "    .dataframe tbody tr th {\n",
       "        vertical-align: top;\n",
       "    }\n",
       "\n",
       "    .dataframe thead th {\n",
       "        text-align: right;\n",
       "    }\n",
       "</style>\n",
       "<table border=\"1\" class=\"dataframe\">\n",
       "  <thead>\n",
       "    <tr style=\"text-align: right;\">\n",
       "      <th></th>\n",
       "      <th>AMT_CREDIT</th>\n",
       "    </tr>\n",
       "    <tr>\n",
       "      <th>TARGET</th>\n",
       "      <th></th>\n",
       "    </tr>\n",
       "  </thead>\n",
       "  <tbody>\n",
       "    <tr>\n",
       "      <th>0.0</th>\n",
       "      <td>1.879093e+10</td>\n",
       "    </tr>\n",
       "    <tr>\n",
       "      <th>1.0</th>\n",
       "      <td>6.397070e+09</td>\n",
       "    </tr>\n",
       "  </tbody>\n",
       "</table>\n",
       "</div>"
      ],
      "text/plain": [
       "          AMT_CREDIT\n",
       "TARGET              \n",
       "0.0     1.879093e+10\n",
       "1.0     6.397070e+09"
      ]
     },
     "execution_count": 106,
     "metadata": {},
     "output_type": "execute_result"
    }
   ],
   "source": [
    "# get the number of people having occupation type and target grouped.\n",
    "hasil = pd.DataFrame(data=result.groupby(['TARGET']).sum()['AMT_CREDIT'])\n",
    "hasil"
   ]
  },
  {
   "attachments": {},
   "cell_type": "markdown",
   "id": "1e9a191b",
   "metadata": {},
   "source": [
    "By rejecting the applicant's loan application, losses from default can be kept to a minimum. According to the expected results, 14050 persons would experience difficulties making their credit payments."
   ]
  }
 ],
 "metadata": {
  "kernelspec": {
   "display_name": "Python 3",
   "language": "python",
   "name": "python3"
  },
  "language_info": {
   "codemirror_mode": {
    "name": "ipython",
    "version": 3
   },
   "file_extension": ".py",
   "mimetype": "text/x-python",
   "name": "python",
   "nbconvert_exporter": "python",
   "pygments_lexer": "ipython3",
   "version": "3.11.0"
  },
  "papermill": {
   "default_parameters": {},
   "duration": 781.563313,
   "end_time": "2022-07-21T13:28:27.770139",
   "environment_variables": {},
   "exception": null,
   "input_path": "__notebook__.ipynb",
   "output_path": "__notebook__.ipynb",
   "parameters": {},
   "start_time": "2022-07-21T13:15:26.206826",
   "version": "2.3.4"
  },
  "vscode": {
   "interpreter": {
    "hash": "5375c6fca34c5f00efc2a1fb12328b4af153b74c7751f4a701371fb63dcb16d8"
   }
  }
 },
 "nbformat": 4,
 "nbformat_minor": 5
}
